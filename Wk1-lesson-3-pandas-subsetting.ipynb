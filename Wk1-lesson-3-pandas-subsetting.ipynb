{
 "cells": [
  {
   "cell_type": "markdown",
   "id": "60f15ebf-8efa-4e7f-9a27-0afcd9cbaf4e",
   "metadata": {},
   "source": [
    "# Subsetting\n",
    "\n",
    "Review core methods to select data from a `pandas.DataFrame`\n",
    "\n",
    "## Read in CSV"
   ]
  },
  {
   "cell_type": "code",
   "execution_count": 2,
   "id": "1bfcfb7e-07b2-4de3-ad19-e73cbea21d1d",
   "metadata": {
    "tags": []
   },
   "outputs": [
    {
     "data": {
      "text/html": [
       "<div>\n",
       "<style scoped>\n",
       "    .dataframe tbody tr th:only-of-type {\n",
       "        vertical-align: middle;\n",
       "    }\n",
       "\n",
       "    .dataframe tbody tr th {\n",
       "        vertical-align: top;\n",
       "    }\n",
       "\n",
       "    .dataframe thead th {\n",
       "        text-align: right;\n",
       "    }\n",
       "</style>\n",
       "<table border=\"1\" class=\"dataframe\">\n",
       "  <thead>\n",
       "    <tr style=\"text-align: right;\">\n",
       "      <th></th>\n",
       "      <th>year</th>\n",
       "      <th>CSM_winter</th>\n",
       "      <th>CSM_spring</th>\n",
       "      <th>CSM_fall</th>\n",
       "      <th>MUL_winter</th>\n",
       "      <th>MUL_spring</th>\n",
       "      <th>MUL_fall</th>\n",
       "      <th>SDW_winter</th>\n",
       "      <th>SDW_spring</th>\n",
       "      <th>SDW_fall</th>\n",
       "      <th>TJE_winter</th>\n",
       "      <th>TJE_spring</th>\n",
       "      <th>TJE_fall</th>\n",
       "    </tr>\n",
       "  </thead>\n",
       "  <tbody>\n",
       "    <tr>\n",
       "      <th>0</th>\n",
       "      <td>2010</td>\n",
       "      <td>39.0</td>\n",
       "      <td>40.0</td>\n",
       "      <td>50.0</td>\n",
       "      <td>45.0</td>\n",
       "      <td>NaN</td>\n",
       "      <td>61.0</td>\n",
       "      <td>NaN</td>\n",
       "      <td>75.0</td>\n",
       "      <td>85.0</td>\n",
       "      <td>NaN</td>\n",
       "      <td>NaN</td>\n",
       "      <td>81.0</td>\n",
       "    </tr>\n",
       "    <tr>\n",
       "      <th>1</th>\n",
       "      <td>2011</td>\n",
       "      <td>48.0</td>\n",
       "      <td>44.0</td>\n",
       "      <td>NaN</td>\n",
       "      <td>58.0</td>\n",
       "      <td>52.0</td>\n",
       "      <td>NaN</td>\n",
       "      <td>78.0</td>\n",
       "      <td>74.0</td>\n",
       "      <td>NaN</td>\n",
       "      <td>67.0</td>\n",
       "      <td>70.0</td>\n",
       "      <td>NaN</td>\n",
       "    </tr>\n",
       "    <tr>\n",
       "      <th>2</th>\n",
       "      <td>2012</td>\n",
       "      <td>51.0</td>\n",
       "      <td>43.0</td>\n",
       "      <td>49.0</td>\n",
       "      <td>57.0</td>\n",
       "      <td>58.0</td>\n",
       "      <td>53.0</td>\n",
       "      <td>71.0</td>\n",
       "      <td>72.0</td>\n",
       "      <td>73.0</td>\n",
       "      <td>70.0</td>\n",
       "      <td>63.0</td>\n",
       "      <td>69.0</td>\n",
       "    </tr>\n",
       "    <tr>\n",
       "      <th>3</th>\n",
       "      <td>2013</td>\n",
       "      <td>42.0</td>\n",
       "      <td>46.0</td>\n",
       "      <td>38.0</td>\n",
       "      <td>60.0</td>\n",
       "      <td>58.0</td>\n",
       "      <td>62.0</td>\n",
       "      <td>69.0</td>\n",
       "      <td>70.0</td>\n",
       "      <td>70.0</td>\n",
       "      <td>69.0</td>\n",
       "      <td>74.0</td>\n",
       "      <td>64.0</td>\n",
       "    </tr>\n",
       "    <tr>\n",
       "      <th>4</th>\n",
       "      <td>2014</td>\n",
       "      <td>38.0</td>\n",
       "      <td>43.0</td>\n",
       "      <td>45.0</td>\n",
       "      <td>49.0</td>\n",
       "      <td>52.0</td>\n",
       "      <td>57.0</td>\n",
       "      <td>61.0</td>\n",
       "      <td>78.0</td>\n",
       "      <td>71.0</td>\n",
       "      <td>60.0</td>\n",
       "      <td>81.0</td>\n",
       "      <td>62.0</td>\n",
       "    </tr>\n",
       "  </tbody>\n",
       "</table>\n",
       "</div>"
      ],
      "text/plain": [
       "   year  CSM_winter  CSM_spring  CSM_fall  MUL_winter  MUL_spring  MUL_fall  \\\n",
       "0  2010        39.0        40.0      50.0        45.0         NaN      61.0   \n",
       "1  2011        48.0        44.0       NaN        58.0        52.0       NaN   \n",
       "2  2012        51.0        43.0      49.0        57.0        58.0      53.0   \n",
       "3  2013        42.0        46.0      38.0        60.0        58.0      62.0   \n",
       "4  2014        38.0        43.0      45.0        49.0        52.0      57.0   \n",
       "\n",
       "   SDW_winter  SDW_spring  SDW_fall  TJE_winter  TJE_spring  TJE_fall  \n",
       "0         NaN        75.0      85.0         NaN         NaN      81.0  \n",
       "1        78.0        74.0       NaN        67.0        70.0       NaN  \n",
       "2        71.0        72.0      73.0        70.0        63.0      69.0  \n",
       "3        69.0        70.0      70.0        69.0        74.0      64.0  \n",
       "4        61.0        78.0      71.0        60.0        81.0      62.0  "
      ]
     },
     "execution_count": 2,
     "metadata": {},
     "output_type": "execute_result"
    }
   ],
   "source": [
    "import pandas as pd\n",
    "\n",
    "# Read in file, argument is the file path\n",
    "df = pd.read_csv('data/wetlands_seasonal_bird_diversity.csv')\n",
    "\n",
    "# Print data frame's first five rows\n",
    "df.head()"
   ]
  },
  {
   "cell_type": "code",
   "execution_count": 4,
   "id": "1b73c794-1872-4e03-bc19-adc270158850",
   "metadata": {
    "tags": []
   },
   "outputs": [
    {
     "data": {
      "text/html": [
       "<div>\n",
       "<style scoped>\n",
       "    .dataframe tbody tr th:only-of-type {\n",
       "        vertical-align: middle;\n",
       "    }\n",
       "\n",
       "    .dataframe tbody tr th {\n",
       "        vertical-align: top;\n",
       "    }\n",
       "\n",
       "    .dataframe thead th {\n",
       "        text-align: right;\n",
       "    }\n",
       "</style>\n",
       "<table border=\"1\" class=\"dataframe\">\n",
       "  <thead>\n",
       "    <tr style=\"text-align: right;\">\n",
       "      <th></th>\n",
       "      <th>year</th>\n",
       "      <th>CSM_winter</th>\n",
       "      <th>CSM_spring</th>\n",
       "      <th>CSM_fall</th>\n",
       "      <th>MUL_winter</th>\n",
       "      <th>MUL_spring</th>\n",
       "      <th>MUL_fall</th>\n",
       "      <th>SDW_winter</th>\n",
       "      <th>SDW_spring</th>\n",
       "      <th>SDW_fall</th>\n",
       "      <th>TJE_winter</th>\n",
       "      <th>TJE_spring</th>\n",
       "      <th>TJE_fall</th>\n",
       "    </tr>\n",
       "  </thead>\n",
       "  <tbody>\n",
       "    <tr>\n",
       "      <th>9</th>\n",
       "      <td>2019</td>\n",
       "      <td>39.0</td>\n",
       "      <td>39.0</td>\n",
       "      <td>40.0</td>\n",
       "      <td>57.0</td>\n",
       "      <td>52.0</td>\n",
       "      <td>53.0</td>\n",
       "      <td>54.0</td>\n",
       "      <td>55.0</td>\n",
       "      <td>53.0</td>\n",
       "      <td>63.0</td>\n",
       "      <td>54.0</td>\n",
       "      <td>50.0</td>\n",
       "    </tr>\n",
       "    <tr>\n",
       "      <th>10</th>\n",
       "      <td>2020</td>\n",
       "      <td>46.0</td>\n",
       "      <td>NaN</td>\n",
       "      <td>47.0</td>\n",
       "      <td>56.0</td>\n",
       "      <td>NaN</td>\n",
       "      <td>66.0</td>\n",
       "      <td>57.0</td>\n",
       "      <td>NaN</td>\n",
       "      <td>58.0</td>\n",
       "      <td>54.0</td>\n",
       "      <td>40.0</td>\n",
       "      <td>54.0</td>\n",
       "    </tr>\n",
       "    <tr>\n",
       "      <th>11</th>\n",
       "      <td>2021</td>\n",
       "      <td>47.0</td>\n",
       "      <td>44.0</td>\n",
       "      <td>53.0</td>\n",
       "      <td>54.0</td>\n",
       "      <td>55.0</td>\n",
       "      <td>60.0</td>\n",
       "      <td>57.0</td>\n",
       "      <td>58.0</td>\n",
       "      <td>57.0</td>\n",
       "      <td>53.0</td>\n",
       "      <td>68.0</td>\n",
       "      <td>51.0</td>\n",
       "    </tr>\n",
       "    <tr>\n",
       "      <th>12</th>\n",
       "      <td>2022</td>\n",
       "      <td>40.0</td>\n",
       "      <td>46.0</td>\n",
       "      <td>49.0</td>\n",
       "      <td>60.0</td>\n",
       "      <td>55.0</td>\n",
       "      <td>65.0</td>\n",
       "      <td>57.0</td>\n",
       "      <td>60.0</td>\n",
       "      <td>57.0</td>\n",
       "      <td>60.0</td>\n",
       "      <td>61.0</td>\n",
       "      <td>60.0</td>\n",
       "    </tr>\n",
       "    <tr>\n",
       "      <th>13</th>\n",
       "      <td>2023</td>\n",
       "      <td>56.0</td>\n",
       "      <td>43.0</td>\n",
       "      <td>36.0</td>\n",
       "      <td>72.0</td>\n",
       "      <td>59.0</td>\n",
       "      <td>53.0</td>\n",
       "      <td>64.0</td>\n",
       "      <td>63.0</td>\n",
       "      <td>33.0</td>\n",
       "      <td>60.0</td>\n",
       "      <td>56.0</td>\n",
       "      <td>38.0</td>\n",
       "    </tr>\n",
       "  </tbody>\n",
       "</table>\n",
       "</div>"
      ],
      "text/plain": [
       "    year  CSM_winter  CSM_spring  CSM_fall  MUL_winter  MUL_spring  MUL_fall  \\\n",
       "9   2019        39.0        39.0      40.0        57.0        52.0      53.0   \n",
       "10  2020        46.0         NaN      47.0        56.0         NaN      66.0   \n",
       "11  2021        47.0        44.0      53.0        54.0        55.0      60.0   \n",
       "12  2022        40.0        46.0      49.0        60.0        55.0      65.0   \n",
       "13  2023        56.0        43.0      36.0        72.0        59.0      53.0   \n",
       "\n",
       "    SDW_winter  SDW_spring  SDW_fall  TJE_winter  TJE_spring  TJE_fall  \n",
       "9         54.0        55.0      53.0        63.0        54.0      50.0  \n",
       "10        57.0         NaN      58.0        54.0        40.0      54.0  \n",
       "11        57.0        58.0      57.0        53.0        68.0      51.0  \n",
       "12        57.0        60.0      57.0        60.0        61.0      60.0  \n",
       "13        64.0        63.0      33.0        60.0        56.0      38.0  "
      ]
     },
     "execution_count": 4,
     "metadata": {},
     "output_type": "execute_result"
    }
   ],
   "source": [
    "# Print data frame's last five rows\n",
    "df.tail()"
   ]
  },
  {
   "cell_type": "code",
   "execution_count": 5,
   "id": "70062db5-9fc5-4bb7-8c0b-57d90dc8d5a6",
   "metadata": {
    "tags": []
   },
   "outputs": [
    {
     "data": {
      "text/plain": [
       "Index(['year', 'CSM_winter', 'CSM_spring', 'CSM_fall', 'MUL_winter',\n",
       "       'MUL_spring', 'MUL_fall', 'SDW_winter', 'SDW_spring', 'SDW_fall',\n",
       "       'TJE_winter', 'TJE_spring', 'TJE_fall'],\n",
       "      dtype='object')"
      ]
     },
     "execution_count": 5,
     "metadata": {},
     "output_type": "execute_result"
    }
   ],
   "source": [
    "# Print data frame's column names\n",
    "# this is an `attribute` - Accessing information about it\n",
    "df.columns"
   ]
  },
  {
   "cell_type": "code",
   "execution_count": 6,
   "id": "6055fdf7-535d-499d-9051-08a9fe88077e",
   "metadata": {
    "tags": []
   },
   "outputs": [
    {
     "data": {
      "text/plain": [
       "year            int64\n",
       "CSM_winter    float64\n",
       "CSM_spring    float64\n",
       "CSM_fall      float64\n",
       "MUL_winter    float64\n",
       "MUL_spring    float64\n",
       "MUL_fall      float64\n",
       "SDW_winter    float64\n",
       "SDW_spring    float64\n",
       "SDW_fall      float64\n",
       "TJE_winter    float64\n",
       "TJE_spring    float64\n",
       "TJE_fall      float64\n",
       "dtype: object"
      ]
     },
     "execution_count": 6,
     "metadata": {},
     "output_type": "execute_result"
    }
   ],
   "source": [
    "# List the data types of each column\n",
    "df.dtypes"
   ]
  },
  {
   "cell_type": "code",
   "execution_count": 8,
   "id": "e80fe8e8-264d-40c0-8b8b-492e3bde9091",
   "metadata": {
    "tags": []
   },
   "outputs": [
    {
     "data": {
      "text/plain": [
       "pandas.core.series.Series"
      ]
     },
     "execution_count": 8,
     "metadata": {},
     "output_type": "execute_result"
    }
   ],
   "source": [
    "# List the data types of each column\n",
    "type(df.dtypes)"
   ]
  },
  {
   "cell_type": "code",
   "execution_count": 9,
   "id": "29e50b97-8eb2-4a95-adc8-e460ce653b69",
   "metadata": {
    "tags": []
   },
   "outputs": [
    {
     "data": {
      "text/plain": [
       "(14, 13)"
      ]
     },
     "execution_count": 9,
     "metadata": {},
     "output_type": "execute_result"
    }
   ],
   "source": [
    "# Print data frames's shape: output is a tuple (# rows, # of columns)\n",
    "df.shape"
   ]
  },
  {
   "cell_type": "markdown",
   "id": "482093e9-09aa-42c3-96b8-4cb33d515088",
   "metadata": {},
   "source": [
    "# Selecting a single column\n",
    "\n",
    "Selecting a single column by column name is the simplest case for selecting data in a dataframe. The general syntax to do this is:\n",
    "`df['column_name']`\n",
    "\n",
    "This is an example of **label-based subsetting**. Which means we select data from our data frame using the **names** of the columns, **not their position**.\n",
    "\n",
    "## Example"
   ]
  },
  {
   "cell_type": "code",
   "execution_count": 16,
   "id": "6d990b8d-3e9b-4609-aa20-8a992db10f85",
   "metadata": {
    "tags": []
   },
   "outputs": [
    {
     "data": {
      "text/plain": [
       "0      NaN\n",
       "1     52.0\n",
       "2     58.0\n",
       "3     58.0\n",
       "4     52.0\n",
       "5     50.0\n",
       "6     48.0\n",
       "7     54.0\n",
       "8     54.0\n",
       "9     52.0\n",
       "10     NaN\n",
       "11    55.0\n",
       "12    55.0\n",
       "13    59.0\n",
       "Name: MUL_spring, dtype: float64"
      ]
     },
     "execution_count": 16,
     "metadata": {},
     "output_type": "execute_result"
    }
   ],
   "source": [
    "# Selecting number of bird species observed at Mugu Lagoon in spring\n",
    "MUL_spring = df['MUL_spring']\n",
    "\n",
    "MUL_spring"
   ]
  },
  {
   "cell_type": "code",
   "execution_count": 17,
   "id": "9411cd58-8a66-4ded-89ba-ef348cbe5c93",
   "metadata": {
    "tags": []
   },
   "outputs": [
    {
     "data": {
      "text/plain": [
       "pandas.core.series.Series"
      ]
     },
     "execution_count": 17,
     "metadata": {},
     "output_type": "execute_result"
    }
   ],
   "source": [
    "type(MUL_spring)"
   ]
  },
  {
   "cell_type": "markdown",
   "id": "740e4722-c401-4e42-a733-8edd28f5effd",
   "metadata": {},
   "source": [
    "We can do label-based subsetting of a single column using attribute syntax\n",
    "`df.column_name`\n",
    "\n",
    "## Example:"
   ]
  },
  {
   "cell_type": "code",
   "execution_count": 18,
   "id": "e606c8a4-3d2e-466c-9270-5003fdbf46d5",
   "metadata": {
    "tags": []
   },
   "outputs": [
    {
     "data": {
      "text/plain": [
       "0      NaN\n",
       "1     52.0\n",
       "2     58.0\n",
       "3     58.0\n",
       "4     52.0\n",
       "5     50.0\n",
       "6     48.0\n",
       "7     54.0\n",
       "8     54.0\n",
       "9     52.0\n",
       "10     NaN\n",
       "11    55.0\n",
       "12    55.0\n",
       "13    59.0\n",
       "Name: MUL_spring, dtype: float64"
      ]
     },
     "execution_count": 18,
     "metadata": {},
     "output_type": "execute_result"
    }
   ],
   "source": [
    "df.MUL_spring"
   ]
  },
  {
   "cell_type": "markdown",
   "id": "eded7f3f-92c4-48c0-b275-1358e0224ee5",
   "metadata": {},
   "source": [
    "Favor `df['column_name']` instead of `df.column_count`\n",
    "\n",
    "Why?\n",
    "- column name has a space, etc.\n",
    "\n",
    "## Selecting Multiple Columns...\n",
    "\n",
    ".. using a list of column names.\n",
    "\n",
    "Syntax:\n",
    "\n",
    "```\n",
    "df[ ['column_1','column_10', 'column_245'] ]\n",
    "``` \n",
    "Think about is as you are passing a list of names `['column_1','column_10', 'column_245']` to the selection brackets on the outside `[]`\n",
    "\n",
    "## Example"
   ]
  },
  {
   "cell_type": "code",
   "execution_count": 23,
   "id": "d8629716-c8e3-4333-807a-87254d54c1b9",
   "metadata": {
    "tags": []
   },
   "outputs": [],
   "source": [
    "# Selecting species abundance in Tijuana Estuary during winter and fall\n",
    "tje_wf = df[['TJE_winter', 'TJE_fall']]"
   ]
  },
  {
   "cell_type": "code",
   "execution_count": 27,
   "id": "972391cc-7d41-4602-a6ff-0489a9c49050",
   "metadata": {
    "tags": []
   },
   "outputs": [
    {
     "name": "stdout",
     "output_type": "stream",
     "text": [
      "<class 'pandas.core.frame.DataFrame'>\n",
      "(14, 2)\n"
     ]
    }
   ],
   "source": [
    "# Check the type of TJE_wf?\n",
    "# Dataframe bc we are selecting more than one column in a dataframe\n",
    "print(type(tje_wf))\n",
    "\n",
    "\n",
    "# check the shape of the selection?\n",
    "\n",
    "print(tje_wf.shape)"
   ]
  },
  {
   "cell_type": "markdown",
   "id": "3e4e5098-0562-4b2c-a8a3-8197f62b06d9",
   "metadata": {},
   "source": [
    "## ... using a slice\n",
    "\n",
    "To select a slice of the columns we will use a special case of `loc` selection\n",
    "\n",
    "Syntax:\n",
    "\n",
    "```\n",
    "df.loc[ :, 'column_start':'column_end']\n",
    "```\n",
    "\n",
    "`column_start` and `column_end` = Starting and Ending point of column slice, slice includes both endpoints.\n",
    "\n",
    "- The first value passed to `loc` is used to select rows, using a `:` as the row-selection parameter means \"selecting all the rows\"\n",
    "\n",
    "## Example"
   ]
  },
  {
   "cell_type": "code",
   "execution_count": 31,
   "id": "19ec05af-9036-4c0d-8b6d-4242f7d3d09d",
   "metadata": {
    "tags": []
   },
   "outputs": [
    {
     "data": {
      "text/html": [
       "<div>\n",
       "<style scoped>\n",
       "    .dataframe tbody tr th:only-of-type {\n",
       "        vertical-align: middle;\n",
       "    }\n",
       "\n",
       "    .dataframe tbody tr th {\n",
       "        vertical-align: top;\n",
       "    }\n",
       "\n",
       "    .dataframe thead th {\n",
       "        text-align: right;\n",
       "    }\n",
       "</style>\n",
       "<table border=\"1\" class=\"dataframe\">\n",
       "  <thead>\n",
       "    <tr style=\"text-align: right;\">\n",
       "      <th></th>\n",
       "      <th>CSM_winter</th>\n",
       "      <th>CSM_spring</th>\n",
       "      <th>CSM_fall</th>\n",
       "      <th>MUL_winter</th>\n",
       "      <th>MUL_spring</th>\n",
       "      <th>MUL_fall</th>\n",
       "    </tr>\n",
       "  </thead>\n",
       "  <tbody>\n",
       "    <tr>\n",
       "      <th>0</th>\n",
       "      <td>39.0</td>\n",
       "      <td>40.0</td>\n",
       "      <td>50.0</td>\n",
       "      <td>45.0</td>\n",
       "      <td>NaN</td>\n",
       "      <td>61.0</td>\n",
       "    </tr>\n",
       "    <tr>\n",
       "      <th>1</th>\n",
       "      <td>48.0</td>\n",
       "      <td>44.0</td>\n",
       "      <td>NaN</td>\n",
       "      <td>58.0</td>\n",
       "      <td>52.0</td>\n",
       "      <td>NaN</td>\n",
       "    </tr>\n",
       "    <tr>\n",
       "      <th>2</th>\n",
       "      <td>51.0</td>\n",
       "      <td>43.0</td>\n",
       "      <td>49.0</td>\n",
       "      <td>57.0</td>\n",
       "      <td>58.0</td>\n",
       "      <td>53.0</td>\n",
       "    </tr>\n",
       "    <tr>\n",
       "      <th>3</th>\n",
       "      <td>42.0</td>\n",
       "      <td>46.0</td>\n",
       "      <td>38.0</td>\n",
       "      <td>60.0</td>\n",
       "      <td>58.0</td>\n",
       "      <td>62.0</td>\n",
       "    </tr>\n",
       "    <tr>\n",
       "      <th>4</th>\n",
       "      <td>38.0</td>\n",
       "      <td>43.0</td>\n",
       "      <td>45.0</td>\n",
       "      <td>49.0</td>\n",
       "      <td>52.0</td>\n",
       "      <td>57.0</td>\n",
       "    </tr>\n",
       "  </tbody>\n",
       "</table>\n",
       "</div>"
      ],
      "text/plain": [
       "   CSM_winter  CSM_spring  CSM_fall  MUL_winter  MUL_spring  MUL_fall\n",
       "0        39.0        40.0      50.0        45.0         NaN      61.0\n",
       "1        48.0        44.0       NaN        58.0        52.0       NaN\n",
       "2        51.0        43.0      49.0        57.0        58.0      53.0\n",
       "3        42.0        46.0      38.0        60.0        58.0      62.0\n",
       "4        38.0        43.0      45.0        49.0        52.0      57.0"
      ]
     },
     "execution_count": 31,
     "metadata": {},
     "output_type": "execute_result"
    }
   ],
   "source": [
    "# Selecting columns between CSM_winter an MUL_fall\n",
    "\n",
    "csm_mul = df.loc[:, 'CSM_winter':'MUL_fall']\n",
    "csm_mul.head()"
   ]
  },
  {
   "cell_type": "markdown",
   "id": "33a539d6-f580-484b-9e04-fe57596420ce",
   "metadata": {},
   "source": [
    "# Selecting Rows of dataframes\n",
    "\n",
    "### .... using a condition\n",
    "\n",
    "\n",
    "Syntax:\n",
    "```\n",
    "df[condition_on_rows]\n",
    "```\n",
    "\n",
    "That `condition_on_rows` can be many things.\n",
    "\n",
    "## Example\n",
    "\n",
    "We are interested in all data after 2020"
   ]
  },
  {
   "cell_type": "code",
   "execution_count": 35,
   "id": "2a6a3c57-ba7f-4841-922e-71d48a2eef7a",
   "metadata": {
    "tags": []
   },
   "outputs": [
    {
     "data": {
      "text/html": [
       "<div>\n",
       "<style scoped>\n",
       "    .dataframe tbody tr th:only-of-type {\n",
       "        vertical-align: middle;\n",
       "    }\n",
       "\n",
       "    .dataframe tbody tr th {\n",
       "        vertical-align: top;\n",
       "    }\n",
       "\n",
       "    .dataframe thead th {\n",
       "        text-align: right;\n",
       "    }\n",
       "</style>\n",
       "<table border=\"1\" class=\"dataframe\">\n",
       "  <thead>\n",
       "    <tr style=\"text-align: right;\">\n",
       "      <th></th>\n",
       "      <th>year</th>\n",
       "      <th>CSM_winter</th>\n",
       "      <th>CSM_spring</th>\n",
       "      <th>CSM_fall</th>\n",
       "      <th>MUL_winter</th>\n",
       "      <th>MUL_spring</th>\n",
       "      <th>MUL_fall</th>\n",
       "      <th>SDW_winter</th>\n",
       "      <th>SDW_spring</th>\n",
       "      <th>SDW_fall</th>\n",
       "      <th>TJE_winter</th>\n",
       "      <th>TJE_spring</th>\n",
       "      <th>TJE_fall</th>\n",
       "    </tr>\n",
       "  </thead>\n",
       "  <tbody>\n",
       "    <tr>\n",
       "      <th>11</th>\n",
       "      <td>2021</td>\n",
       "      <td>47.0</td>\n",
       "      <td>44.0</td>\n",
       "      <td>53.0</td>\n",
       "      <td>54.0</td>\n",
       "      <td>55.0</td>\n",
       "      <td>60.0</td>\n",
       "      <td>57.0</td>\n",
       "      <td>58.0</td>\n",
       "      <td>57.0</td>\n",
       "      <td>53.0</td>\n",
       "      <td>68.0</td>\n",
       "      <td>51.0</td>\n",
       "    </tr>\n",
       "    <tr>\n",
       "      <th>12</th>\n",
       "      <td>2022</td>\n",
       "      <td>40.0</td>\n",
       "      <td>46.0</td>\n",
       "      <td>49.0</td>\n",
       "      <td>60.0</td>\n",
       "      <td>55.0</td>\n",
       "      <td>65.0</td>\n",
       "      <td>57.0</td>\n",
       "      <td>60.0</td>\n",
       "      <td>57.0</td>\n",
       "      <td>60.0</td>\n",
       "      <td>61.0</td>\n",
       "      <td>60.0</td>\n",
       "    </tr>\n",
       "    <tr>\n",
       "      <th>13</th>\n",
       "      <td>2023</td>\n",
       "      <td>56.0</td>\n",
       "      <td>43.0</td>\n",
       "      <td>36.0</td>\n",
       "      <td>72.0</td>\n",
       "      <td>59.0</td>\n",
       "      <td>53.0</td>\n",
       "      <td>64.0</td>\n",
       "      <td>63.0</td>\n",
       "      <td>33.0</td>\n",
       "      <td>60.0</td>\n",
       "      <td>56.0</td>\n",
       "      <td>38.0</td>\n",
       "    </tr>\n",
       "  </tbody>\n",
       "</table>\n",
       "</div>"
      ],
      "text/plain": [
       "    year  CSM_winter  CSM_spring  CSM_fall  MUL_winter  MUL_spring  MUL_fall  \\\n",
       "11  2021        47.0        44.0      53.0        54.0        55.0      60.0   \n",
       "12  2022        40.0        46.0      49.0        60.0        55.0      65.0   \n",
       "13  2023        56.0        43.0      36.0        72.0        59.0      53.0   \n",
       "\n",
       "    SDW_winter  SDW_spring  SDW_fall  TJE_winter  TJE_spring  TJE_fall  \n",
       "11        57.0        58.0      57.0        53.0        68.0      51.0  \n",
       "12        57.0        60.0      57.0        60.0        61.0      60.0  \n",
       "13        64.0        63.0      33.0        60.0        56.0      38.0  "
      ]
     },
     "execution_count": 35,
     "metadata": {},
     "output_type": "execute_result"
    }
   ],
   "source": [
    "# Selecting all rows with year > 2020\n",
    "\n",
    "post_2020 = df[df['year'] > 2020]\n",
    "post_2020"
   ]
  },
  {
   "cell_type": "markdown",
   "id": "317e2564-ac13-47d6-9353-a63f6bbd6bd2",
   "metadata": {},
   "source": [
    "Condition for our rows = `df['year'] >= 2020]` this is a `panda.Series` with **boolean values** (True/False) indicates which rows statisfy the condition year > 2020"
   ]
  },
  {
   "cell_type": "code",
   "execution_count": 34,
   "id": "9a7d04be-2db7-4244-bc69-bad735d4164a",
   "metadata": {
    "tags": []
   },
   "outputs": [
    {
     "name": "stdout",
     "output_type": "stream",
     "text": [
      "<class 'pandas.core.series.Series'>\n"
     ]
    },
    {
     "data": {
      "text/plain": [
       "0     False\n",
       "1     False\n",
       "2     False\n",
       "3     False\n",
       "4     False\n",
       "5     False\n",
       "6     False\n",
       "7     False\n",
       "8     False\n",
       "9     False\n",
       "10    False\n",
       "11     True\n",
       "12     True\n",
       "13     True\n",
       "Name: year, dtype: bool"
      ]
     },
     "execution_count": 34,
     "metadata": {},
     "output_type": "execute_result"
    }
   ],
   "source": [
    "# Check the type of df['year'] > 2020]\n",
    "print(type(df['year'] > 2020))\n",
    "\n",
    "# Print the boolean series\n",
    "df['year'] > 2020"
   ]
  },
  {
   "cell_type": "markdown",
   "id": "e065bb45-7dbc-4ca4-8e5b-d8deb113ee4c",
   "metadata": {},
   "source": [
    "### Check-in\n",
    "Get the subset of the data frame on which San Dieguito Wetland has at least 75 species recorded during spring?"
   ]
  },
  {
   "cell_type": "code",
   "execution_count": 36,
   "id": "d9a640b0-bce7-47a7-a8e2-d079c0d7bc87",
   "metadata": {
    "tags": []
   },
   "outputs": [
    {
     "data": {
      "text/plain": [
       "Index(['year', 'CSM_winter', 'CSM_spring', 'CSM_fall', 'MUL_winter',\n",
       "       'MUL_spring', 'MUL_fall', 'SDW_winter', 'SDW_spring', 'SDW_fall',\n",
       "       'TJE_winter', 'TJE_spring', 'TJE_fall'],\n",
       "      dtype='object')"
      ]
     },
     "execution_count": 36,
     "metadata": {},
     "output_type": "execute_result"
    }
   ],
   "source": [
    "df.columns"
   ]
  },
  {
   "cell_type": "code",
   "execution_count": 41,
   "id": "732faa4f-f709-407f-988c-a42435ffa5c1",
   "metadata": {
    "tags": []
   },
   "outputs": [
    {
     "data": {
      "text/html": [
       "<div>\n",
       "<style scoped>\n",
       "    .dataframe tbody tr th:only-of-type {\n",
       "        vertical-align: middle;\n",
       "    }\n",
       "\n",
       "    .dataframe tbody tr th {\n",
       "        vertical-align: top;\n",
       "    }\n",
       "\n",
       "    .dataframe thead th {\n",
       "        text-align: right;\n",
       "    }\n",
       "</style>\n",
       "<table border=\"1\" class=\"dataframe\">\n",
       "  <thead>\n",
       "    <tr style=\"text-align: right;\">\n",
       "      <th></th>\n",
       "      <th>year</th>\n",
       "      <th>CSM_winter</th>\n",
       "      <th>CSM_spring</th>\n",
       "      <th>CSM_fall</th>\n",
       "      <th>MUL_winter</th>\n",
       "      <th>MUL_spring</th>\n",
       "      <th>MUL_fall</th>\n",
       "      <th>SDW_winter</th>\n",
       "      <th>SDW_spring</th>\n",
       "      <th>SDW_fall</th>\n",
       "      <th>TJE_winter</th>\n",
       "      <th>TJE_spring</th>\n",
       "      <th>TJE_fall</th>\n",
       "    </tr>\n",
       "  </thead>\n",
       "  <tbody>\n",
       "    <tr>\n",
       "      <th>0</th>\n",
       "      <td>2010</td>\n",
       "      <td>39.0</td>\n",
       "      <td>40.0</td>\n",
       "      <td>50.0</td>\n",
       "      <td>45.0</td>\n",
       "      <td>NaN</td>\n",
       "      <td>61.0</td>\n",
       "      <td>NaN</td>\n",
       "      <td>75.0</td>\n",
       "      <td>85.0</td>\n",
       "      <td>NaN</td>\n",
       "      <td>NaN</td>\n",
       "      <td>81.0</td>\n",
       "    </tr>\n",
       "    <tr>\n",
       "      <th>4</th>\n",
       "      <td>2014</td>\n",
       "      <td>38.0</td>\n",
       "      <td>43.0</td>\n",
       "      <td>45.0</td>\n",
       "      <td>49.0</td>\n",
       "      <td>52.0</td>\n",
       "      <td>57.0</td>\n",
       "      <td>61.0</td>\n",
       "      <td>78.0</td>\n",
       "      <td>71.0</td>\n",
       "      <td>60.0</td>\n",
       "      <td>81.0</td>\n",
       "      <td>62.0</td>\n",
       "    </tr>\n",
       "  </tbody>\n",
       "</table>\n",
       "</div>"
      ],
      "text/plain": [
       "   year  CSM_winter  CSM_spring  CSM_fall  MUL_winter  MUL_spring  MUL_fall  \\\n",
       "0  2010        39.0        40.0      50.0        45.0         NaN      61.0   \n",
       "4  2014        38.0        43.0      45.0        49.0        52.0      57.0   \n",
       "\n",
       "   SDW_winter  SDW_spring  SDW_fall  TJE_winter  TJE_spring  TJE_fall  \n",
       "0         NaN        75.0      85.0         NaN         NaN      81.0  \n",
       "4        61.0        78.0      71.0        60.0        81.0      62.0  "
      ]
     },
     "execution_count": 41,
     "metadata": {},
     "output_type": "execute_result"
    }
   ],
   "source": [
    "SDW_sp = df[df['SDW_spring'] >= 75]\n",
    "SDW_sp"
   ]
  },
  {
   "cell_type": "markdown",
   "id": "37a7de9c-297f-4c57-824b-35db98604a48",
   "metadata": {},
   "source": [
    "## Example\n",
    "\n",
    "Suppose we want to look at data from 2012 to 2015 (including both years)."
   ]
  },
  {
   "cell_type": "code",
   "execution_count": 42,
   "id": "e8d7b995-7590-4ce3-a69f-66b06f651086",
   "metadata": {
    "tags": []
   },
   "outputs": [
    {
     "data": {
      "text/html": [
       "<div>\n",
       "<style scoped>\n",
       "    .dataframe tbody tr th:only-of-type {\n",
       "        vertical-align: middle;\n",
       "    }\n",
       "\n",
       "    .dataframe tbody tr th {\n",
       "        vertical-align: top;\n",
       "    }\n",
       "\n",
       "    .dataframe thead th {\n",
       "        text-align: right;\n",
       "    }\n",
       "</style>\n",
       "<table border=\"1\" class=\"dataframe\">\n",
       "  <thead>\n",
       "    <tr style=\"text-align: right;\">\n",
       "      <th></th>\n",
       "      <th>year</th>\n",
       "      <th>CSM_winter</th>\n",
       "      <th>CSM_spring</th>\n",
       "      <th>CSM_fall</th>\n",
       "      <th>MUL_winter</th>\n",
       "      <th>MUL_spring</th>\n",
       "      <th>MUL_fall</th>\n",
       "      <th>SDW_winter</th>\n",
       "      <th>SDW_spring</th>\n",
       "      <th>SDW_fall</th>\n",
       "      <th>TJE_winter</th>\n",
       "      <th>TJE_spring</th>\n",
       "      <th>TJE_fall</th>\n",
       "    </tr>\n",
       "  </thead>\n",
       "  <tbody>\n",
       "    <tr>\n",
       "      <th>2</th>\n",
       "      <td>2012</td>\n",
       "      <td>51.0</td>\n",
       "      <td>43.0</td>\n",
       "      <td>49.0</td>\n",
       "      <td>57.0</td>\n",
       "      <td>58.0</td>\n",
       "      <td>53.0</td>\n",
       "      <td>71.0</td>\n",
       "      <td>72.0</td>\n",
       "      <td>73.0</td>\n",
       "      <td>70.0</td>\n",
       "      <td>63.0</td>\n",
       "      <td>69.0</td>\n",
       "    </tr>\n",
       "    <tr>\n",
       "      <th>3</th>\n",
       "      <td>2013</td>\n",
       "      <td>42.0</td>\n",
       "      <td>46.0</td>\n",
       "      <td>38.0</td>\n",
       "      <td>60.0</td>\n",
       "      <td>58.0</td>\n",
       "      <td>62.0</td>\n",
       "      <td>69.0</td>\n",
       "      <td>70.0</td>\n",
       "      <td>70.0</td>\n",
       "      <td>69.0</td>\n",
       "      <td>74.0</td>\n",
       "      <td>64.0</td>\n",
       "    </tr>\n",
       "    <tr>\n",
       "      <th>4</th>\n",
       "      <td>2014</td>\n",
       "      <td>38.0</td>\n",
       "      <td>43.0</td>\n",
       "      <td>45.0</td>\n",
       "      <td>49.0</td>\n",
       "      <td>52.0</td>\n",
       "      <td>57.0</td>\n",
       "      <td>61.0</td>\n",
       "      <td>78.0</td>\n",
       "      <td>71.0</td>\n",
       "      <td>60.0</td>\n",
       "      <td>81.0</td>\n",
       "      <td>62.0</td>\n",
       "    </tr>\n",
       "    <tr>\n",
       "      <th>5</th>\n",
       "      <td>2015</td>\n",
       "      <td>44.0</td>\n",
       "      <td>42.0</td>\n",
       "      <td>45.0</td>\n",
       "      <td>58.0</td>\n",
       "      <td>50.0</td>\n",
       "      <td>51.0</td>\n",
       "      <td>71.0</td>\n",
       "      <td>61.0</td>\n",
       "      <td>65.0</td>\n",
       "      <td>73.0</td>\n",
       "      <td>76.0</td>\n",
       "      <td>64.0</td>\n",
       "    </tr>\n",
       "  </tbody>\n",
       "</table>\n",
       "</div>"
      ],
      "text/plain": [
       "   year  CSM_winter  CSM_spring  CSM_fall  MUL_winter  MUL_spring  MUL_fall  \\\n",
       "2  2012        51.0        43.0      49.0        57.0        58.0      53.0   \n",
       "3  2013        42.0        46.0      38.0        60.0        58.0      62.0   \n",
       "4  2014        38.0        43.0      45.0        49.0        52.0      57.0   \n",
       "5  2015        44.0        42.0      45.0        58.0        50.0      51.0   \n",
       "\n",
       "   SDW_winter  SDW_spring  SDW_fall  TJE_winter  TJE_spring  TJE_fall  \n",
       "2        71.0        72.0      73.0        70.0        63.0      69.0  \n",
       "3        69.0        70.0      70.0        69.0        74.0      64.0  \n",
       "4        61.0        78.0      71.0        60.0        81.0      62.0  \n",
       "5        71.0        61.0      65.0        73.0        76.0      64.0  "
      ]
     },
     "execution_count": 42,
     "metadata": {},
     "output_type": "execute_result"
    }
   ],
   "source": [
    "subset = df[df['year'].between(2012,2015)]\n",
    "subset"
   ]
  },
  {
   "cell_type": "markdown",
   "id": "c43433aa-bf11-4a7a-be43-004b33cbf76e",
   "metadata": {},
   "source": [
    "- `df['year']` = column with year values, this is a `panda.Series`\n",
    "- `df['year'].between()` we have that `between` is a method for the pandas.Series. Calling it using `.`\n",
    "- (2012,2015) : parameters. If we look at the documentation, we can see the method includes both endpoints.\n",
    "- When you put `df['year'].between(2012,2015)` in the selection brackets, we obtain the rows we need.\n",
    "\n",
    "## Avoid using `loc` for selecting only rows\n",
    "\n",
    "It is equivalent to write\n",
    "\n",
    "```\n",
    "# Selecting rows with year < 2015\n",
    "df [ df ['year'] < 2015 ]\n",
    "```\n",
    "AND\n",
    "\n",
    "```\n",
    "df.loc[df['year']<2015, :]\n",
    "```\n",
    "\n",
    "In the second one:\n",
    "- using `df.loc[row-selection, column-selection]`\n",
    "- the row selection is the condition `df['year']<2015`\n",
    "- the column selection is `:` = all columns"
   ]
  },
  {
   "cell_type": "markdown",
   "id": "f4af5a69-2c78-417d-aa7b-03e00378aff8",
   "metadata": {},
   "source": [
    "## ... using multiple conditions\n",
    "\n",
    "We can combine multiple conditions by select rows by surrounding each one in parenthesis `()` and using the operator `|` and the and operator `&`"
   ]
  },
  {
   "cell_type": "code",
   "execution_count": 44,
   "id": "5b6627c1-fdf8-4af1-bc07-8e1d98b23c62",
   "metadata": {
    "tags": []
   },
   "outputs": [
    {
     "data": {
      "text/html": [
       "<div>\n",
       "<style scoped>\n",
       "    .dataframe tbody tr th:only-of-type {\n",
       "        vertical-align: middle;\n",
       "    }\n",
       "\n",
       "    .dataframe tbody tr th {\n",
       "        vertical-align: top;\n",
       "    }\n",
       "\n",
       "    .dataframe thead th {\n",
       "        text-align: right;\n",
       "    }\n",
       "</style>\n",
       "<table border=\"1\" class=\"dataframe\">\n",
       "  <thead>\n",
       "    <tr style=\"text-align: right;\">\n",
       "      <th></th>\n",
       "      <th>year</th>\n",
       "      <th>CSM_winter</th>\n",
       "      <th>CSM_spring</th>\n",
       "      <th>CSM_fall</th>\n",
       "      <th>MUL_winter</th>\n",
       "      <th>MUL_spring</th>\n",
       "      <th>MUL_fall</th>\n",
       "      <th>SDW_winter</th>\n",
       "      <th>SDW_spring</th>\n",
       "      <th>SDW_fall</th>\n",
       "      <th>TJE_winter</th>\n",
       "      <th>TJE_spring</th>\n",
       "      <th>TJE_fall</th>\n",
       "    </tr>\n",
       "  </thead>\n",
       "  <tbody>\n",
       "    <tr>\n",
       "      <th>2</th>\n",
       "      <td>2012</td>\n",
       "      <td>51.0</td>\n",
       "      <td>43.0</td>\n",
       "      <td>49.0</td>\n",
       "      <td>57.0</td>\n",
       "      <td>58.0</td>\n",
       "      <td>53.0</td>\n",
       "      <td>71.0</td>\n",
       "      <td>72.0</td>\n",
       "      <td>73.0</td>\n",
       "      <td>70.0</td>\n",
       "      <td>63.0</td>\n",
       "      <td>69.0</td>\n",
       "    </tr>\n",
       "    <tr>\n",
       "      <th>11</th>\n",
       "      <td>2021</td>\n",
       "      <td>47.0</td>\n",
       "      <td>44.0</td>\n",
       "      <td>53.0</td>\n",
       "      <td>54.0</td>\n",
       "      <td>55.0</td>\n",
       "      <td>60.0</td>\n",
       "      <td>57.0</td>\n",
       "      <td>58.0</td>\n",
       "      <td>57.0</td>\n",
       "      <td>53.0</td>\n",
       "      <td>68.0</td>\n",
       "      <td>51.0</td>\n",
       "    </tr>\n",
       "    <tr>\n",
       "      <th>13</th>\n",
       "      <td>2023</td>\n",
       "      <td>56.0</td>\n",
       "      <td>43.0</td>\n",
       "      <td>36.0</td>\n",
       "      <td>72.0</td>\n",
       "      <td>59.0</td>\n",
       "      <td>53.0</td>\n",
       "      <td>64.0</td>\n",
       "      <td>63.0</td>\n",
       "      <td>33.0</td>\n",
       "      <td>60.0</td>\n",
       "      <td>56.0</td>\n",
       "      <td>38.0</td>\n",
       "    </tr>\n",
       "  </tbody>\n",
       "</table>\n",
       "</div>"
      ],
      "text/plain": [
       "    year  CSM_winter  CSM_spring  CSM_fall  MUL_winter  MUL_spring  MUL_fall  \\\n",
       "2   2012        51.0        43.0      49.0        57.0        58.0      53.0   \n",
       "11  2021        47.0        44.0      53.0        54.0        55.0      60.0   \n",
       "13  2023        56.0        43.0      36.0        72.0        59.0      53.0   \n",
       "\n",
       "    SDW_winter  SDW_spring  SDW_fall  TJE_winter  TJE_spring  TJE_fall  \n",
       "2         71.0        72.0      73.0        70.0        63.0      69.0  \n",
       "11        57.0        58.0      57.0        53.0        68.0      51.0  \n",
       "13        64.0        63.0      33.0        60.0        56.0      38.0  "
      ]
     },
     "execution_count": 44,
     "metadata": {},
     "output_type": "execute_result"
    }
   ],
   "source": [
    "# Select rows in CSM with more than 50 species in winter or fall\n",
    "df[(df['CSM_winter']>50) | (df['CSM_fall']>50)]"
   ]
  },
  {
   "cell_type": "markdown",
   "id": "a09db3b8-8a91-4386-9ff9-f9b2435cd9e5",
   "metadata": {},
   "source": [
    "**Select rows in which both CSM and SDW have more than 60 bird species during spring**"
   ]
  },
  {
   "cell_type": "code",
   "execution_count": 45,
   "id": "55eab45c-31a3-4ddc-a09c-324a3804a20a",
   "metadata": {
    "tags": []
   },
   "outputs": [
    {
     "data": {
      "text/html": [
       "<div>\n",
       "<style scoped>\n",
       "    .dataframe tbody tr th:only-of-type {\n",
       "        vertical-align: middle;\n",
       "    }\n",
       "\n",
       "    .dataframe tbody tr th {\n",
       "        vertical-align: top;\n",
       "    }\n",
       "\n",
       "    .dataframe thead th {\n",
       "        text-align: right;\n",
       "    }\n",
       "</style>\n",
       "<table border=\"1\" class=\"dataframe\">\n",
       "  <thead>\n",
       "    <tr style=\"text-align: right;\">\n",
       "      <th></th>\n",
       "      <th>year</th>\n",
       "      <th>CSM_winter</th>\n",
       "      <th>CSM_spring</th>\n",
       "      <th>CSM_fall</th>\n",
       "      <th>MUL_winter</th>\n",
       "      <th>MUL_spring</th>\n",
       "      <th>MUL_fall</th>\n",
       "      <th>SDW_winter</th>\n",
       "      <th>SDW_spring</th>\n",
       "      <th>SDW_fall</th>\n",
       "      <th>TJE_winter</th>\n",
       "      <th>TJE_spring</th>\n",
       "      <th>TJE_fall</th>\n",
       "    </tr>\n",
       "  </thead>\n",
       "  <tbody>\n",
       "  </tbody>\n",
       "</table>\n",
       "</div>"
      ],
      "text/plain": [
       "Empty DataFrame\n",
       "Columns: [year, CSM_winter, CSM_spring, CSM_fall, MUL_winter, MUL_spring, MUL_fall, SDW_winter, SDW_spring, SDW_fall, TJE_winter, TJE_spring, TJE_fall]\n",
       "Index: []"
      ]
     },
     "execution_count": 45,
     "metadata": {},
     "output_type": "execute_result"
    }
   ],
   "source": [
    "df[(df['CSM_spring']>60) & (df['SDW_spring']>60)]\n",
    "# empty dataframe = no data"
   ]
  },
  {
   "cell_type": "code",
   "execution_count": null,
   "id": "5b06944d-71ba-48a6-8215-508b966207d8",
   "metadata": {},
   "outputs": [],
   "source": []
  }
 ],
 "metadata": {
  "kernelspec": {
   "display_name": "EDS220",
   "language": "python",
   "name": "eds220-env"
  },
  "language_info": {
   "codemirror_mode": {
    "name": "ipython",
    "version": 3
   },
   "file_extension": ".py",
   "mimetype": "text/x-python",
   "name": "python",
   "nbconvert_exporter": "python",
   "pygments_lexer": "ipython3",
   "version": "3.11.4"
  }
 },
 "nbformat": 4,
 "nbformat_minor": 5
}
