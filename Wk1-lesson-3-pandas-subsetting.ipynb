{
 "cells": [
  {
   "cell_type": "markdown",
   "id": "60f15ebf-8efa-4e7f-9a27-0afcd9cbaf4e",
   "metadata": {},
   "source": [
    "# Subsetting\n",
    "\n",
    "Review core methods to select data from a `pandas.DataFrame`\n",
    "\n",
    "## Read in CSV"
   ]
  },
  {
   "cell_type": "code",
   "execution_count": 13,
   "id": "ed82fe04-ef85-4f2f-b568-ea07664d114c",
   "metadata": {
    "tags": []
   },
   "outputs": [],
   "source": [
    "import pandas as pd\n"
   ]
  },
  {
   "cell_type": "code",
   "execution_count": 18,
   "id": "dd32524e-bcc6-4943-9e7f-40f7e3808965",
   "metadata": {
    "tags": []
   },
   "outputs": [
    {
     "ename": "FileNotFoundError",
     "evalue": "[Errno 2] No such file or directory: 'data/wetlands_seasonal_bird_diversity.csv'",
     "output_type": "error",
     "traceback": [
      "\u001b[0;31m---------------------------------------------------------------------------\u001b[0m",
      "\u001b[0;31mFileNotFoundError\u001b[0m                         Traceback (most recent call last)",
      "Cell \u001b[0;32mIn[18], line 4\u001b[0m\n\u001b[1;32m      1\u001b[0m \u001b[38;5;28;01mimport\u001b[39;00m \u001b[38;5;21;01mpandas\u001b[39;00m \u001b[38;5;28;01mas\u001b[39;00m \u001b[38;5;21;01mpd\u001b[39;00m\n\u001b[1;32m      3\u001b[0m \u001b[38;5;66;03m# Read in file, argument is the file path\u001b[39;00m\n\u001b[0;32m----> 4\u001b[0m df \u001b[38;5;241m=\u001b[39m \u001b[43mpd\u001b[49m\u001b[38;5;241;43m.\u001b[39;49m\u001b[43mread_csv\u001b[49m\u001b[43m(\u001b[49m\u001b[38;5;124;43m'\u001b[39;49m\u001b[38;5;124;43mdata/wetlands_seasonal_bird_diversity.csv\u001b[39;49m\u001b[38;5;124;43m'\u001b[39;49m\u001b[43m)\u001b[49m\n",
      "File \u001b[0;32m/opt/anaconda3/envs/eds220-env/lib/python3.11/site-packages/pandas/io/parsers/readers.py:1026\u001b[0m, in \u001b[0;36mread_csv\u001b[0;34m(filepath_or_buffer, sep, delimiter, header, names, index_col, usecols, dtype, engine, converters, true_values, false_values, skipinitialspace, skiprows, skipfooter, nrows, na_values, keep_default_na, na_filter, verbose, skip_blank_lines, parse_dates, infer_datetime_format, keep_date_col, date_parser, date_format, dayfirst, cache_dates, iterator, chunksize, compression, thousands, decimal, lineterminator, quotechar, quoting, doublequote, escapechar, comment, encoding, encoding_errors, dialect, on_bad_lines, delim_whitespace, low_memory, memory_map, float_precision, storage_options, dtype_backend)\u001b[0m\n\u001b[1;32m   1013\u001b[0m kwds_defaults \u001b[38;5;241m=\u001b[39m _refine_defaults_read(\n\u001b[1;32m   1014\u001b[0m     dialect,\n\u001b[1;32m   1015\u001b[0m     delimiter,\n\u001b[0;32m   (...)\u001b[0m\n\u001b[1;32m   1022\u001b[0m     dtype_backend\u001b[38;5;241m=\u001b[39mdtype_backend,\n\u001b[1;32m   1023\u001b[0m )\n\u001b[1;32m   1024\u001b[0m kwds\u001b[38;5;241m.\u001b[39mupdate(kwds_defaults)\n\u001b[0;32m-> 1026\u001b[0m \u001b[38;5;28;01mreturn\u001b[39;00m \u001b[43m_read\u001b[49m\u001b[43m(\u001b[49m\u001b[43mfilepath_or_buffer\u001b[49m\u001b[43m,\u001b[49m\u001b[43m \u001b[49m\u001b[43mkwds\u001b[49m\u001b[43m)\u001b[49m\n",
      "File \u001b[0;32m/opt/anaconda3/envs/eds220-env/lib/python3.11/site-packages/pandas/io/parsers/readers.py:620\u001b[0m, in \u001b[0;36m_read\u001b[0;34m(filepath_or_buffer, kwds)\u001b[0m\n\u001b[1;32m    617\u001b[0m _validate_names(kwds\u001b[38;5;241m.\u001b[39mget(\u001b[38;5;124m\"\u001b[39m\u001b[38;5;124mnames\u001b[39m\u001b[38;5;124m\"\u001b[39m, \u001b[38;5;28;01mNone\u001b[39;00m))\n\u001b[1;32m    619\u001b[0m \u001b[38;5;66;03m# Create the parser.\u001b[39;00m\n\u001b[0;32m--> 620\u001b[0m parser \u001b[38;5;241m=\u001b[39m \u001b[43mTextFileReader\u001b[49m\u001b[43m(\u001b[49m\u001b[43mfilepath_or_buffer\u001b[49m\u001b[43m,\u001b[49m\u001b[43m \u001b[49m\u001b[38;5;241;43m*\u001b[39;49m\u001b[38;5;241;43m*\u001b[39;49m\u001b[43mkwds\u001b[49m\u001b[43m)\u001b[49m\n\u001b[1;32m    622\u001b[0m \u001b[38;5;28;01mif\u001b[39;00m chunksize \u001b[38;5;129;01mor\u001b[39;00m iterator:\n\u001b[1;32m    623\u001b[0m     \u001b[38;5;28;01mreturn\u001b[39;00m parser\n",
      "File \u001b[0;32m/opt/anaconda3/envs/eds220-env/lib/python3.11/site-packages/pandas/io/parsers/readers.py:1620\u001b[0m, in \u001b[0;36mTextFileReader.__init__\u001b[0;34m(self, f, engine, **kwds)\u001b[0m\n\u001b[1;32m   1617\u001b[0m     \u001b[38;5;28mself\u001b[39m\u001b[38;5;241m.\u001b[39moptions[\u001b[38;5;124m\"\u001b[39m\u001b[38;5;124mhas_index_names\u001b[39m\u001b[38;5;124m\"\u001b[39m] \u001b[38;5;241m=\u001b[39m kwds[\u001b[38;5;124m\"\u001b[39m\u001b[38;5;124mhas_index_names\u001b[39m\u001b[38;5;124m\"\u001b[39m]\n\u001b[1;32m   1619\u001b[0m \u001b[38;5;28mself\u001b[39m\u001b[38;5;241m.\u001b[39mhandles: IOHandles \u001b[38;5;241m|\u001b[39m \u001b[38;5;28;01mNone\u001b[39;00m \u001b[38;5;241m=\u001b[39m \u001b[38;5;28;01mNone\u001b[39;00m\n\u001b[0;32m-> 1620\u001b[0m \u001b[38;5;28mself\u001b[39m\u001b[38;5;241m.\u001b[39m_engine \u001b[38;5;241m=\u001b[39m \u001b[38;5;28;43mself\u001b[39;49m\u001b[38;5;241;43m.\u001b[39;49m\u001b[43m_make_engine\u001b[49m\u001b[43m(\u001b[49m\u001b[43mf\u001b[49m\u001b[43m,\u001b[49m\u001b[43m \u001b[49m\u001b[38;5;28;43mself\u001b[39;49m\u001b[38;5;241;43m.\u001b[39;49m\u001b[43mengine\u001b[49m\u001b[43m)\u001b[49m\n",
      "File \u001b[0;32m/opt/anaconda3/envs/eds220-env/lib/python3.11/site-packages/pandas/io/parsers/readers.py:1880\u001b[0m, in \u001b[0;36mTextFileReader._make_engine\u001b[0;34m(self, f, engine)\u001b[0m\n\u001b[1;32m   1878\u001b[0m     \u001b[38;5;28;01mif\u001b[39;00m \u001b[38;5;124m\"\u001b[39m\u001b[38;5;124mb\u001b[39m\u001b[38;5;124m\"\u001b[39m \u001b[38;5;129;01mnot\u001b[39;00m \u001b[38;5;129;01min\u001b[39;00m mode:\n\u001b[1;32m   1879\u001b[0m         mode \u001b[38;5;241m+\u001b[39m\u001b[38;5;241m=\u001b[39m \u001b[38;5;124m\"\u001b[39m\u001b[38;5;124mb\u001b[39m\u001b[38;5;124m\"\u001b[39m\n\u001b[0;32m-> 1880\u001b[0m \u001b[38;5;28mself\u001b[39m\u001b[38;5;241m.\u001b[39mhandles \u001b[38;5;241m=\u001b[39m \u001b[43mget_handle\u001b[49m\u001b[43m(\u001b[49m\n\u001b[1;32m   1881\u001b[0m \u001b[43m    \u001b[49m\u001b[43mf\u001b[49m\u001b[43m,\u001b[49m\n\u001b[1;32m   1882\u001b[0m \u001b[43m    \u001b[49m\u001b[43mmode\u001b[49m\u001b[43m,\u001b[49m\n\u001b[1;32m   1883\u001b[0m \u001b[43m    \u001b[49m\u001b[43mencoding\u001b[49m\u001b[38;5;241;43m=\u001b[39;49m\u001b[38;5;28;43mself\u001b[39;49m\u001b[38;5;241;43m.\u001b[39;49m\u001b[43moptions\u001b[49m\u001b[38;5;241;43m.\u001b[39;49m\u001b[43mget\u001b[49m\u001b[43m(\u001b[49m\u001b[38;5;124;43m\"\u001b[39;49m\u001b[38;5;124;43mencoding\u001b[39;49m\u001b[38;5;124;43m\"\u001b[39;49m\u001b[43m,\u001b[49m\u001b[43m \u001b[49m\u001b[38;5;28;43;01mNone\u001b[39;49;00m\u001b[43m)\u001b[49m\u001b[43m,\u001b[49m\n\u001b[1;32m   1884\u001b[0m \u001b[43m    \u001b[49m\u001b[43mcompression\u001b[49m\u001b[38;5;241;43m=\u001b[39;49m\u001b[38;5;28;43mself\u001b[39;49m\u001b[38;5;241;43m.\u001b[39;49m\u001b[43moptions\u001b[49m\u001b[38;5;241;43m.\u001b[39;49m\u001b[43mget\u001b[49m\u001b[43m(\u001b[49m\u001b[38;5;124;43m\"\u001b[39;49m\u001b[38;5;124;43mcompression\u001b[39;49m\u001b[38;5;124;43m\"\u001b[39;49m\u001b[43m,\u001b[49m\u001b[43m \u001b[49m\u001b[38;5;28;43;01mNone\u001b[39;49;00m\u001b[43m)\u001b[49m\u001b[43m,\u001b[49m\n\u001b[1;32m   1885\u001b[0m \u001b[43m    \u001b[49m\u001b[43mmemory_map\u001b[49m\u001b[38;5;241;43m=\u001b[39;49m\u001b[38;5;28;43mself\u001b[39;49m\u001b[38;5;241;43m.\u001b[39;49m\u001b[43moptions\u001b[49m\u001b[38;5;241;43m.\u001b[39;49m\u001b[43mget\u001b[49m\u001b[43m(\u001b[49m\u001b[38;5;124;43m\"\u001b[39;49m\u001b[38;5;124;43mmemory_map\u001b[39;49m\u001b[38;5;124;43m\"\u001b[39;49m\u001b[43m,\u001b[49m\u001b[43m \u001b[49m\u001b[38;5;28;43;01mFalse\u001b[39;49;00m\u001b[43m)\u001b[49m\u001b[43m,\u001b[49m\n\u001b[1;32m   1886\u001b[0m \u001b[43m    \u001b[49m\u001b[43mis_text\u001b[49m\u001b[38;5;241;43m=\u001b[39;49m\u001b[43mis_text\u001b[49m\u001b[43m,\u001b[49m\n\u001b[1;32m   1887\u001b[0m \u001b[43m    \u001b[49m\u001b[43merrors\u001b[49m\u001b[38;5;241;43m=\u001b[39;49m\u001b[38;5;28;43mself\u001b[39;49m\u001b[38;5;241;43m.\u001b[39;49m\u001b[43moptions\u001b[49m\u001b[38;5;241;43m.\u001b[39;49m\u001b[43mget\u001b[49m\u001b[43m(\u001b[49m\u001b[38;5;124;43m\"\u001b[39;49m\u001b[38;5;124;43mencoding_errors\u001b[39;49m\u001b[38;5;124;43m\"\u001b[39;49m\u001b[43m,\u001b[49m\u001b[43m \u001b[49m\u001b[38;5;124;43m\"\u001b[39;49m\u001b[38;5;124;43mstrict\u001b[39;49m\u001b[38;5;124;43m\"\u001b[39;49m\u001b[43m)\u001b[49m\u001b[43m,\u001b[49m\n\u001b[1;32m   1888\u001b[0m \u001b[43m    \u001b[49m\u001b[43mstorage_options\u001b[49m\u001b[38;5;241;43m=\u001b[39;49m\u001b[38;5;28;43mself\u001b[39;49m\u001b[38;5;241;43m.\u001b[39;49m\u001b[43moptions\u001b[49m\u001b[38;5;241;43m.\u001b[39;49m\u001b[43mget\u001b[49m\u001b[43m(\u001b[49m\u001b[38;5;124;43m\"\u001b[39;49m\u001b[38;5;124;43mstorage_options\u001b[39;49m\u001b[38;5;124;43m\"\u001b[39;49m\u001b[43m,\u001b[49m\u001b[43m \u001b[49m\u001b[38;5;28;43;01mNone\u001b[39;49;00m\u001b[43m)\u001b[49m\u001b[43m,\u001b[49m\n\u001b[1;32m   1889\u001b[0m \u001b[43m\u001b[49m\u001b[43m)\u001b[49m\n\u001b[1;32m   1890\u001b[0m \u001b[38;5;28;01massert\u001b[39;00m \u001b[38;5;28mself\u001b[39m\u001b[38;5;241m.\u001b[39mhandles \u001b[38;5;129;01mis\u001b[39;00m \u001b[38;5;129;01mnot\u001b[39;00m \u001b[38;5;28;01mNone\u001b[39;00m\n\u001b[1;32m   1891\u001b[0m f \u001b[38;5;241m=\u001b[39m \u001b[38;5;28mself\u001b[39m\u001b[38;5;241m.\u001b[39mhandles\u001b[38;5;241m.\u001b[39mhandle\n",
      "File \u001b[0;32m/opt/anaconda3/envs/eds220-env/lib/python3.11/site-packages/pandas/io/common.py:873\u001b[0m, in \u001b[0;36mget_handle\u001b[0;34m(path_or_buf, mode, encoding, compression, memory_map, is_text, errors, storage_options)\u001b[0m\n\u001b[1;32m    868\u001b[0m \u001b[38;5;28;01melif\u001b[39;00m \u001b[38;5;28misinstance\u001b[39m(handle, \u001b[38;5;28mstr\u001b[39m):\n\u001b[1;32m    869\u001b[0m     \u001b[38;5;66;03m# Check whether the filename is to be opened in binary mode.\u001b[39;00m\n\u001b[1;32m    870\u001b[0m     \u001b[38;5;66;03m# Binary mode does not support 'encoding' and 'newline'.\u001b[39;00m\n\u001b[1;32m    871\u001b[0m     \u001b[38;5;28;01mif\u001b[39;00m ioargs\u001b[38;5;241m.\u001b[39mencoding \u001b[38;5;129;01mand\u001b[39;00m \u001b[38;5;124m\"\u001b[39m\u001b[38;5;124mb\u001b[39m\u001b[38;5;124m\"\u001b[39m \u001b[38;5;129;01mnot\u001b[39;00m \u001b[38;5;129;01min\u001b[39;00m ioargs\u001b[38;5;241m.\u001b[39mmode:\n\u001b[1;32m    872\u001b[0m         \u001b[38;5;66;03m# Encoding\u001b[39;00m\n\u001b[0;32m--> 873\u001b[0m         handle \u001b[38;5;241m=\u001b[39m \u001b[38;5;28mopen\u001b[39m(\n\u001b[1;32m    874\u001b[0m             handle,\n\u001b[1;32m    875\u001b[0m             ioargs\u001b[38;5;241m.\u001b[39mmode,\n\u001b[1;32m    876\u001b[0m             encoding\u001b[38;5;241m=\u001b[39mioargs\u001b[38;5;241m.\u001b[39mencoding,\n\u001b[1;32m    877\u001b[0m             errors\u001b[38;5;241m=\u001b[39merrors,\n\u001b[1;32m    878\u001b[0m             newline\u001b[38;5;241m=\u001b[39m\u001b[38;5;124m\"\u001b[39m\u001b[38;5;124m\"\u001b[39m,\n\u001b[1;32m    879\u001b[0m         )\n\u001b[1;32m    880\u001b[0m     \u001b[38;5;28;01melse\u001b[39;00m:\n\u001b[1;32m    881\u001b[0m         \u001b[38;5;66;03m# Binary mode\u001b[39;00m\n\u001b[1;32m    882\u001b[0m         handle \u001b[38;5;241m=\u001b[39m \u001b[38;5;28mopen\u001b[39m(handle, ioargs\u001b[38;5;241m.\u001b[39mmode)\n",
      "\u001b[0;31mFileNotFoundError\u001b[0m: [Errno 2] No such file or directory: 'data/wetlands_seasonal_bird_diversity.csv'"
     ]
    }
   ],
   "source": [
    "import pandas as pd\n",
    "\n",
    "# Read in file, argument is the file path\n",
    "df = pd.read_csv('data/wetlands_seasonal_bird_diversity.csv')"
   ]
  },
  {
   "cell_type": "code",
   "execution_count": 16,
   "id": "1b73c794-1872-4e03-bc19-adc270158850",
   "metadata": {
    "tags": []
   },
   "outputs": [
    {
     "ename": "NameError",
     "evalue": "name 'df' is not defined",
     "output_type": "error",
     "traceback": [
      "\u001b[0;31m---------------------------------------------------------------------------\u001b[0m",
      "\u001b[0;31mNameError\u001b[0m                                 Traceback (most recent call last)",
      "Cell \u001b[0;32mIn[16], line 2\u001b[0m\n\u001b[1;32m      1\u001b[0m \u001b[38;5;66;03m# Print data frame's last five rows\u001b[39;00m\n\u001b[0;32m----> 2\u001b[0m \u001b[43mdf\u001b[49m\u001b[38;5;241m.\u001b[39mtail()\n",
      "\u001b[0;31mNameError\u001b[0m: name 'df' is not defined"
     ]
    }
   ],
   "source": [
    "# Print data frame's last five rows\n",
    "df.tail()"
   ]
  },
  {
   "cell_type": "code",
   "execution_count": null,
   "id": "70062db5-9fc5-4bb7-8c0b-57d90dc8d5a6",
   "metadata": {
    "tags": []
   },
   "outputs": [],
   "source": [
    "# Print data frame's column names\n",
    "# this is an `attribute` - Accessing information about it\n",
    "df.columns"
   ]
  },
  {
   "cell_type": "code",
   "execution_count": null,
   "id": "6055fdf7-535d-499d-9051-08a9fe88077e",
   "metadata": {
    "tags": []
   },
   "outputs": [],
   "source": [
    "# List the data types of each column\n",
    "df.dtypes"
   ]
  },
  {
   "cell_type": "code",
   "execution_count": null,
   "id": "e80fe8e8-264d-40c0-8b8b-492e3bde9091",
   "metadata": {
    "tags": []
   },
   "outputs": [],
   "source": [
    "# List the data types of each column\n",
    "type(df.dtypes)"
   ]
  },
  {
   "cell_type": "code",
   "execution_count": null,
   "id": "29e50b97-8eb2-4a95-adc8-e460ce653b69",
   "metadata": {
    "tags": []
   },
   "outputs": [],
   "source": [
    "# Print data frames's shape: output is a tuple (# rows, # of columns)\n",
    "df.shape"
   ]
  },
  {
   "cell_type": "markdown",
   "id": "482093e9-09aa-42c3-96b8-4cb33d515088",
   "metadata": {},
   "source": [
    "# Selecting a single column\n",
    "\n",
    "Selecting a single column by column name is the simplest case for selecting data in a dataframe. The general syntax to do this is:\n",
    "`df['column_name']`\n",
    "\n",
    "This is an example of **label-based subsetting**. Which means we select data from our data frame using the **names** of the columns, **not their position**.\n",
    "\n",
    "## Example"
   ]
  },
  {
   "cell_type": "code",
   "execution_count": null,
   "id": "6d990b8d-3e9b-4609-aa20-8a992db10f85",
   "metadata": {
    "tags": []
   },
   "outputs": [],
   "source": [
    "# Selecting number of bird species observed at Mugu Lagoon in spring\n",
    "MUL_spring = df['MUL_spring']\n",
    "\n",
    "MUL_spring"
   ]
  },
  {
   "cell_type": "code",
   "execution_count": null,
   "id": "9411cd58-8a66-4ded-89ba-ef348cbe5c93",
   "metadata": {
    "tags": []
   },
   "outputs": [],
   "source": [
    "type(MUL_spring)"
   ]
  },
  {
   "cell_type": "markdown",
   "id": "740e4722-c401-4e42-a733-8edd28f5effd",
   "metadata": {},
   "source": [
    "We can do label-based subsetting of a single column using attribute syntax\n",
    "`df.column_name`\n",
    "\n",
    "## Example:"
   ]
  },
  {
   "cell_type": "code",
   "execution_count": null,
   "id": "e606c8a4-3d2e-466c-9270-5003fdbf46d5",
   "metadata": {
    "tags": []
   },
   "outputs": [],
   "source": [
    "df.MUL_spring"
   ]
  },
  {
   "cell_type": "markdown",
   "id": "eded7f3f-92c4-48c0-b275-1358e0224ee5",
   "metadata": {},
   "source": [
    "Favor `df['column_name']` instead of `df.column_count`\n",
    "\n",
    "Why?\n",
    "- column name has a space, etc.\n",
    "\n",
    "## Selecting Multiple Columns...\n",
    "\n",
    ".. using a list of column names.\n",
    "\n",
    "Syntax:\n",
    "\n",
    "```\n",
    "df[ ['column_1','column_10', 'column_245'] ]\n",
    "``` \n",
    "Think about is as you are passing a list of names `['column_1','column_10', 'column_245']` to the selection brackets on the outside `[]`\n",
    "\n",
    "## Example"
   ]
  },
  {
   "cell_type": "code",
   "execution_count": null,
   "id": "d8629716-c8e3-4333-807a-87254d54c1b9",
   "metadata": {
    "tags": []
   },
   "outputs": [],
   "source": [
    "# Selecting species abundance in Tijuana Estuary during winter and fall\n",
    "tje_wf = df[['TJE_winter', 'TJE_fall']]"
   ]
  },
  {
   "cell_type": "code",
   "execution_count": null,
   "id": "972391cc-7d41-4602-a6ff-0489a9c49050",
   "metadata": {
    "tags": []
   },
   "outputs": [],
   "source": [
    "# Check the type of TJE_wf?\n",
    "# Dataframe bc we are selecting more than one column in a dataframe\n",
    "print(type(tje_wf))\n",
    "\n",
    "\n",
    "# check the shape of the selection?\n",
    "\n",
    "print(tje_wf.shape)"
   ]
  },
  {
   "cell_type": "markdown",
   "id": "3e4e5098-0562-4b2c-a8a3-8197f62b06d9",
   "metadata": {},
   "source": [
    "## ... using a slice\n",
    "\n",
    "To select a slice of the columns we will use a special case of `loc` selection\n",
    "\n",
    "Syntax:\n",
    "\n",
    "```\n",
    "df.loc[ :, 'column_start':'column_end']\n",
    "```\n",
    "\n",
    "`column_start` and `column_end` = Starting and Ending point of column slice, slice includes both endpoints.\n",
    "\n",
    "- The first value passed to `loc` is used to select rows, using a `:` as the row-selection parameter means \"selecting all the rows\"\n",
    "\n",
    "## Example"
   ]
  },
  {
   "cell_type": "code",
   "execution_count": null,
   "id": "19ec05af-9036-4c0d-8b6d-4242f7d3d09d",
   "metadata": {
    "tags": []
   },
   "outputs": [],
   "source": [
    "# Selecting columns between CSM_winter an MUL_fall\n",
    "\n",
    "csm_mul = df.loc[:, 'CSM_winter':'MUL_fall']\n",
    "csm_mul.head()"
   ]
  },
  {
   "cell_type": "markdown",
   "id": "33a539d6-f580-484b-9e04-fe57596420ce",
   "metadata": {},
   "source": [
    "# Selecting Rows of dataframes\n",
    "\n",
    "### .... using a condition\n",
    "\n",
    "\n",
    "Syntax:\n",
    "```\n",
    "df[condition_on_rows]\n",
    "```\n",
    "\n",
    "That `condition_on_rows` can be many things.\n",
    "\n",
    "## Example\n",
    "\n",
    "We are interested in all data after 2020"
   ]
  },
  {
   "cell_type": "code",
   "execution_count": null,
   "id": "2a6a3c57-ba7f-4841-922e-71d48a2eef7a",
   "metadata": {
    "tags": []
   },
   "outputs": [],
   "source": [
    "# Selecting all rows with year > 2020\n",
    "\n",
    "post_2020 = df[df['year'] > 2020]\n",
    "post_2020"
   ]
  },
  {
   "cell_type": "markdown",
   "id": "317e2564-ac13-47d6-9353-a63f6bbd6bd2",
   "metadata": {},
   "source": [
    "Condition for our rows = `df['year'] >= 2020]` this is a `panda.Series` with **boolean values** (True/False) indicates which rows statisfy the condition year > 2020"
   ]
  },
  {
   "cell_type": "code",
   "execution_count": null,
   "id": "9a7d04be-2db7-4244-bc69-bad735d4164a",
   "metadata": {
    "tags": []
   },
   "outputs": [],
   "source": [
    "# Check the type of df['year'] > 2020]\n",
    "print(type(df['year'] > 2020))\n",
    "\n",
    "# Print the boolean series\n",
    "df['year'] > 2020"
   ]
  },
  {
   "cell_type": "markdown",
   "id": "e065bb45-7dbc-4ca4-8e5b-d8deb113ee4c",
   "metadata": {},
   "source": [
    "### Check-in\n",
    "Get the subset of the data frame on which San Dieguito Wetland has at least 75 species recorded during spring?"
   ]
  },
  {
   "cell_type": "code",
   "execution_count": null,
   "id": "d9a640b0-bce7-47a7-a8e2-d079c0d7bc87",
   "metadata": {
    "tags": []
   },
   "outputs": [],
   "source": [
    "df.columns"
   ]
  },
  {
   "cell_type": "code",
   "execution_count": null,
   "id": "732faa4f-f709-407f-988c-a42435ffa5c1",
   "metadata": {
    "tags": []
   },
   "outputs": [],
   "source": [
    "SDW_sp = df[df['SDW_spring'] >= 75]\n",
    "SDW_sp"
   ]
  },
  {
   "cell_type": "markdown",
   "id": "37a7de9c-297f-4c57-824b-35db98604a48",
   "metadata": {},
   "source": [
    "## Example\n",
    "\n",
    "Suppose we want to look at data from 2012 to 2015 (including both years)."
   ]
  },
  {
   "cell_type": "code",
   "execution_count": null,
   "id": "e8d7b995-7590-4ce3-a69f-66b06f651086",
   "metadata": {
    "tags": []
   },
   "outputs": [],
   "source": [
    "subset = df[df['year'].between(2012,2015)]\n",
    "subset"
   ]
  },
  {
   "cell_type": "markdown",
   "id": "c43433aa-bf11-4a7a-be43-004b33cbf76e",
   "metadata": {},
   "source": [
    "- `df['year']` = column with year values, this is a `panda.Series`\n",
    "- `df['year'].between()` we have that `between` is a method for the pandas.Series. Calling it using `.`\n",
    "- (2012,2015) : parameters. If we look at the documentation, we can see the method includes both endpoints.\n",
    "- When you put `df['year'].between(2012,2015)` in the selection brackets, we obtain the rows we need.\n",
    "\n",
    "## Avoid using `loc` for selecting only rows\n",
    "\n",
    "It is equivalent to write\n",
    "\n",
    "```\n",
    "# Selecting rows with year < 2015\n",
    "df [ df ['year'] < 2015 ]\n",
    "```\n",
    "AND\n",
    "\n",
    "```\n",
    "df.loc[df['year']<2015, :]\n",
    "```\n",
    "\n",
    "In the second one:\n",
    "- using `df.loc[row-selection, column-selection]`\n",
    "- the row selection is the condition `df['year']<2015`\n",
    "- the column selection is `:` = all columns"
   ]
  },
  {
   "cell_type": "markdown",
   "id": "f4af5a69-2c78-417d-aa7b-03e00378aff8",
   "metadata": {},
   "source": [
    "## ... using multiple conditions\n",
    "\n",
    "We can combine multiple conditions by select rows by surrounding each one in parenthesis `()` and using the operator `|` and the and operator `&`"
   ]
  },
  {
   "cell_type": "code",
   "execution_count": null,
   "id": "5b6627c1-fdf8-4af1-bc07-8e1d98b23c62",
   "metadata": {
    "tags": []
   },
   "outputs": [],
   "source": [
    "# Select rows in CSM with more than 50 species in winter or fall\n",
    "df[(df['CSM_winter']>50) | (df['CSM_fall']>50)]"
   ]
  },
  {
   "cell_type": "markdown",
   "id": "a09db3b8-8a91-4386-9ff9-f9b2435cd9e5",
   "metadata": {},
   "source": [
    "**Select rows in which both CSM and SDW have more than 60 bird species during spring**"
   ]
  },
  {
   "cell_type": "code",
   "execution_count": null,
   "id": "55eab45c-31a3-4ddc-a09c-324a3804a20a",
   "metadata": {
    "tags": []
   },
   "outputs": [],
   "source": [
    "df[(df['CSM_spring']>60) & (df['SDW_spring']>60)]\n",
    "# empty dataframe = no data"
   ]
  },
  {
   "cell_type": "code",
   "execution_count": null,
   "id": "5b06944d-71ba-48a6-8215-508b966207d8",
   "metadata": {},
   "outputs": [],
   "source": [
    "cond1 = df['CSM_winter']>50\n",
    "cond2 = df['CSM_fall']>50"
   ]
  },
  {
   "cell_type": "markdown",
   "id": "4087b4db-bfc5-4bfd-ad68-e6347203ab2f",
   "metadata": {},
   "source": [
    "#### selecting rows by position\n",
    "\n",
    "Sometimes we may want to select rows based on their **actual position** in the dataframe.\n",
    "This is **position-based subsetting** . We use `iloc` selection\n",
    "\n",
    "Syntax:\n",
    "```\n",
    "df.iloc[row-indices]\n",
    "```\n",
    "\n",
    "### Example\n"
   ]
  },
  {
   "cell_type": "code",
   "execution_count": null,
   "id": "4f82c0f4-b63c-4712-9be3-8b1bd290c02d",
   "metadata": {},
   "outputs": [],
   "source": [
    "# Selecting the fifth row (index=4)\n",
    "df.iloc[4]"
   ]
  },
  {
   "cell_type": "code",
   "execution_count": null,
   "id": "1c1ac0e2-7965-4abe-83f4-df817cc05275",
   "metadata": {},
   "outputs": [],
   "source": [
    "df2 = df.set_index('year')"
   ]
  },
  {
   "cell_type": "code",
   "execution_count": null,
   "id": "267fecc4-69ff-4e62-a5e6-bf6b0230f4e3",
   "metadata": {},
   "outputs": [],
   "source": [
    "# Selecting 5th row by index label // loc is indexing by LABELS\n",
    "df2.loc[2014]"
   ]
  },
  {
   "cell_type": "code",
   "execution_count": null,
   "id": "a019eeb0-40da-4e7c-822d-4992dcaf537a",
   "metadata": {},
   "outputs": [],
   "source": [
    "df2.iloc[4]"
   ]
  },
  {
   "cell_type": "markdown",
   "id": "8655b9c4-8d63-46f5-9f20-a645124c5676",
   "metadata": {},
   "source": [
    "## Selecting rows and columns simultaneously\n",
    "\n",
    "Can be done using `loc` (labels)\n",
    "- commonly used\n",
    "\n",
    "### ... by labels or conditions\n",
    "\n",
    "Syntax:\n",
    "```\n",
    "df.loc[`row-selection`, `column-selection`]\n",
    "```\n",
    "\n",
    "# Example\n",
    "Select winter surveys for Mugu Lagoon and Tijuana Estuary after 2020"
   ]
  },
  {
   "cell_type": "code",
   "execution_count": null,
   "id": "965b3d2a-5b3c-4f85-8890-89df7e93302e",
   "metadata": {},
   "outputs": [],
   "source": [
    "df.loc[df['year']>2020, ['MUL_winter','TJE_winter']]"
   ]
  },
  {
   "cell_type": "markdown",
   "id": "08356e51-7a6b-4c02-b9b4-5d720e324eaf",
   "metadata": {},
   "source": [
    "### Select by Position\n",
    "\n",
    "Use `iloc` (position)\n",
    "- integer indices\n",
    "\n",
    "Syntax:\n",
    "```\n",
    "df.iloc[row-indices, column-indices]\n",
    "```\n",
    "\n",
    "# Example:\n",
    "Suppose we want to select rows 3-7 (including 7) and columns 4 and 5"
   ]
  },
  {
   "cell_type": "code",
   "execution_count": null,
   "id": "35f494ec-0e97-47ad-b681-766b9616ff8a",
   "metadata": {},
   "outputs": [],
   "source": [
    "df.iloc[3:8, [3:4]]"
   ]
  },
  {
   "cell_type": "markdown",
   "id": "7cf45981-2064-4f43-b7f2-7bff22798245",
   "metadata": {},
   "source": [
    "## `iloc` column selection ?\n",
    "\n",
    "### Example:\n",
    "\n",
    "Suppose we want to access the 9th column in `df`.\n",
    "\n",
    "In this case, we already know this column is the San Dieguito Wetland during spring."
   ]
  },
  {
   "cell_type": "code",
   "execution_count": null,
   "id": "d97eb13b-85b4-48ff-9c3e-0abe507a00af",
   "metadata": {},
   "outputs": [],
   "source": [
    "# `:` selects all columns\n",
    "df.iloc[:, 8]\n",
    "# hard to read, could grab an incorrect column when adding a column, \n",
    "# could select label/name instead\n"
   ]
  },
  {
   "cell_type": "code",
   "execution_count": null,
   "id": "cd2f77e6-34a5-4ee6-8ce8-eda9af0044ef",
   "metadata": {},
   "outputs": [],
   "source": []
  }
 ],
 "metadata": {
  "kernelspec": {
   "display_name": "EDS220",
   "language": "python",
   "name": "eds220-env"
  },
  "language_info": {
   "codemirror_mode": {
    "name": "ipython",
    "version": 3
   },
   "file_extension": ".py",
   "mimetype": "text/x-python",
   "name": "python",
   "nbconvert_exporter": "python",
   "pygments_lexer": "ipython3",
   "version": "3.11.4"
  }
 },
 "nbformat": 4,
 "nbformat_minor": 5
}
