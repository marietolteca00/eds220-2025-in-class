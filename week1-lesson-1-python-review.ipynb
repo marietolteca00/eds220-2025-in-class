{
 "cells": [
  {
   "cell_type": "markdown",
   "id": "b39211df-c2d7-4906-9626-d1aec578862a",
   "metadata": {},
   "source": [
    "# Python Review\n",
    "\n",
    "Goals:\n",
    "- Recall basic Python vocabulary\n",
    "- practice markdown\n",
    "\n",
    "## Libraries and Packages\n",
    "\n",
    "**library**: A collection of code that we can use to perform specific tasks in our programs.\n",
    "\n",
    "**NumPy**: \n",
    "- core library for numerical computing in Python\n",
    "- many other libraries use NumPy arrays as building blocks\n",
    "- computations on NumPy are optiomized for speed and memory usage\n",
    "\n",
    "Let's import NumPy with **standard abbreviation**"
   ]
  },
  {
   "cell_type": "code",
   "execution_count": 1,
   "id": "236eaea2-df12-48ef-b4df-2f5c7d90ff59",
   "metadata": {
    "tags": []
   },
   "outputs": [],
   "source": [
    "import numpy as np"
   ]
  },
  {
   "cell_type": "markdown",
   "id": "03876752-7180-4eca-822f-a009f8f84d6c",
   "metadata": {},
   "source": [
    "## Variables\n",
    "\n",
    "**variable***: a name we assign to a particular object in Python\n",
    "\n",
    "Example:"
   ]
  },
  {
   "cell_type": "code",
   "execution_count": 2,
   "id": "6163ae20-7c58-4cab-9c8c-41da6eab569d",
   "metadata": {
    "tags": []
   },
   "outputs": [],
   "source": [
    "# Assign a small array to a variable `a`\n",
    "a = np.array([[1, 1, 2] , [3, 5, 8]])"
   ]
  },
  {
   "cell_type": "code",
   "execution_count": 3,
   "id": "ed2e63c7-9056-499d-88e2-c9ccaabee7e0",
   "metadata": {
    "tags": []
   },
   "outputs": [
    {
     "data": {
      "text/plain": [
       "array([[1, 1, 2],\n",
       "       [3, 5, 8]])"
      ]
     },
     "execution_count": 3,
     "metadata": {},
     "output_type": "execute_result"
    }
   ],
   "source": [
    "# Run cell with the variable name to show the value\n",
    "a"
   ]
  },
  {
   "cell_type": "code",
   "execution_count": 4,
   "id": "7be53059-4e19-4e50-991d-91df36139e6e",
   "metadata": {
    "tags": []
   },
   "outputs": [
    {
     "name": "stdout",
     "output_type": "stream",
     "text": [
      "[[1 1 2]\n",
      " [3 5 8]]\n"
     ]
    }
   ],
   "source": [
    "# Use `print` function to print the value\n",
    "print(a)"
   ]
  },
  {
   "cell_type": "markdown",
   "id": "da164d8d-ad89-45d1-a03a-1e84190af340",
   "metadata": {},
   "source": [
    "# Objects\n",
    "\n",
    "**object** (informally speaking) is a bundle of *properties* and **actions** about something specific.\n",
    "\n",
    "Example:\n",
    "\n",
    "Object: Data frame\n",
    "\n",
    "**Properties**: Number rows, names of the columns, date created\n",
    "\n",
    "**Actions**: selecting a specific row, adding a new column\n",
    "\n",
    "A **variable** is the name we give a specific object, and the same object can be reference by different variables.\n",
    "\n",
    "In practice, we can often use variable and object interchangeably."
   ]
  },
  {
   "cell_type": "markdown",
   "id": "8696343d-552b-4d89-bad8-4ace46cac75e",
   "metadata": {},
   "source": [
    "# Types\n",
    "\n",
    "Every object in Python has a **type**, the type tells us what kind of object it is.\n",
    "We can also call the type of an object, the **class** of an object and they both mean whta kind of object we have\n",
    "\n",
    "Type tells us what kind of object it is.\n",
    "- The type of an object can also be the class of an object. The **class and type both mean what kind of object do we have**\n"
   ]
  },
  {
   "cell_type": "code",
   "execution_count": 8,
   "id": "d6234764-2ba6-4dea-bd10-36f14435c02d",
   "metadata": {
    "tags": []
   },
   "outputs": [
    {
     "name": "stdout",
     "output_type": "stream",
     "text": [
      "[[1 1 2]\n",
      " [3 5 8]]\n"
     ]
    },
    {
     "data": {
      "text/plain": [
       "numpy.ndarray"
      ]
     },
     "execution_count": 8,
     "metadata": {},
     "output_type": "execute_result"
    }
   ],
   "source": [
    "print(a)\n",
    "# you can see the type/ class of a variable/ object by using `type`\n",
    "type(a)\n",
    "# returns numpy.ndarray"
   ]
  },
  {
   "cell_type": "markdown",
   "id": "97e278ff-f532-48aa-a7d3-bc310c5c16c3",
   "metadata": {},
   "source": [
    "#### **numpy.ndarray** is the core object/ datatype in the NumPy package. \n",
    "#### We can check the type of an entry in the array by **indexing**"
   ]
  },
  {
   "cell_type": "code",
   "execution_count": 9,
   "id": "9fdbad9e-2b3f-400c-a53d-a4e38ae1f13f",
   "metadata": {
    "tags": []
   },
   "outputs": [
    {
     "name": "stdout",
     "output_type": "stream",
     "text": [
      "1\n"
     ]
    },
    {
     "data": {
      "text/plain": [
       "numpy.int64"
      ]
     },
     "execution_count": 9,
     "metadata": {},
     "output_type": "execute_result"
    }
   ],
   "source": [
    "# first row, first column\n",
    "print(a[0,0])\n",
    "\n",
    "# Check the type on an entry on the array by indexing\n",
    "type(a[0,0])"
   ]
  },
  {
   "cell_type": "markdown",
   "id": "616f75cf-1646-452c-8687-963b2b11fdb1",
   "metadata": {},
   "source": [
    "Notice the `type(a[0,0])` is `numpy.int64` and not just the standard Python integer type int. The NumPy type numpy.int64 is telling us 1 is an integer stored as a 64-bit number. \n",
    "\n",
    "- NumPy has its own data types to deal with numbers depending on memory storage and floating point precision, click here to know see all the types."
   ]
  },
  {
   "cell_type": "code",
   "execution_count": 16,
   "id": "9e92b316-e968-4a8d-8d44-b2dfc4a14ed1",
   "metadata": {
    "tags": []
   },
   "outputs": [
    {
     "name": "stdout",
     "output_type": "stream",
     "text": [
      "[[1 1 2]\n",
      " [3 5 8]]\n"
     ]
    },
    {
     "data": {
      "text/plain": [
       "5"
      ]
     },
     "execution_count": 16,
     "metadata": {},
     "output_type": "execute_result"
    }
   ],
   "source": [
    "print(a)\n",
    "#How would you access the value 5 in the array a?\n",
    "a[1,1]"
   ]
  },
  {
   "cell_type": "markdown",
   "id": "ebc7114a-115a-4239-adfe-9931cc9387c8",
   "metadata": {},
   "source": [
    "## Functions\n",
    "\n",
    "`print` was our first example of a Python **function**\n",
    "\n",
    "Functions take in a set of ***arguments***, separated by commas, and use those arguments to create an output.\n",
    "- argument = parameter\n",
    "\n",
    "We can ask information about a function by `?print`\n",
    "\n",
    "There are several built-in funcions in Python, most of them are for interacting with the Python basic **data types** such as \n",
    "- `int` (integers), \n",
    "- `float` (decimal numbers), \n",
    "- `str` (strings), \n",
    "- `bool` (boolean values)\n",
    "\n",
    "A parameter is a variable in the function definition that accepts an argument passed to the function. It is a placeholder in the function that will receive the value of an argument when the function is called."
   ]
  },
  {
   "cell_type": "code",
   "execution_count": 17,
   "id": "0a023a95-5810-4875-8f14-e1142b57d395",
   "metadata": {
    "tags": []
   },
   "outputs": [
    {
     "data": {
      "text/plain": [
       "\u001b[0;31mSignature:\u001b[0m \u001b[0mprint\u001b[0m\u001b[0;34m(\u001b[0m\u001b[0;34m*\u001b[0m\u001b[0margs\u001b[0m\u001b[0;34m,\u001b[0m \u001b[0msep\u001b[0m\u001b[0;34m=\u001b[0m\u001b[0;34m' '\u001b[0m\u001b[0;34m,\u001b[0m \u001b[0mend\u001b[0m\u001b[0;34m=\u001b[0m\u001b[0;34m'\\n'\u001b[0m\u001b[0;34m,\u001b[0m \u001b[0mfile\u001b[0m\u001b[0;34m=\u001b[0m\u001b[0;32mNone\u001b[0m\u001b[0;34m,\u001b[0m \u001b[0mflush\u001b[0m\u001b[0;34m=\u001b[0m\u001b[0;32mFalse\u001b[0m\u001b[0;34m)\u001b[0m\u001b[0;34m\u001b[0m\u001b[0;34m\u001b[0m\u001b[0m\n",
       "\u001b[0;31mDocstring:\u001b[0m\n",
       "Prints the values to a stream, or to sys.stdout by default.\n",
       "\n",
       "sep\n",
       "  string inserted between values, default a space.\n",
       "end\n",
       "  string appended after the last value, default a newline.\n",
       "file\n",
       "  a file-like object (stream); defaults to the current sys.stdout.\n",
       "flush\n",
       "  whether to forcibly flush the stream.\n",
       "\u001b[0;31mType:\u001b[0m      builtin_function_or_method"
      ]
     },
     "metadata": {},
     "output_type": "display_data"
    }
   ],
   "source": [
    "?print"
   ]
  },
  {
   "cell_type": "markdown",
   "id": "49029efd-e13d-4670-914e-59dbfab2d7e1",
   "metadata": {},
   "source": [
    "This information is a **docstring**\n",
    "\n",
    "A function has two types of arguments:\n",
    "\n",
    "- **non-optional argument** arguments *you* need to specify for the function to do something.\n",
    "\n",
    "- **optional argument** arguments that are pre-filled with a defualt value by the function. You can override them.\n",
    "Optional arguments appear inside the parenthesis in the form `optional_argument=default_value`"
   ]
  },
  {
   "cell_type": "code",
   "execution_count": 18,
   "id": "645db914-9266-4011-b36b-0b1423e027a7",
   "metadata": {
    "tags": []
   },
   "outputs": [
    {
     "name": "stdout",
     "output_type": "stream",
     "text": [
      "changing the default end argument :)"
     ]
    }
   ],
   "source": [
    "print('changing the default end argument', end=' :)')"
   ]
  },
  {
   "cell_type": "markdown",
   "id": "510560db-2bc4-49be-90c4-86b0377212a2",
   "metadata": {},
   "source": [
    "## Attribytes & methods\n",
    "\n",
    "An object in Python has attributes and methods.\n",
    "\n",
    "- **Attribute**: A property of an object, some piece of information on it.\n",
    "- **Method**: A procedure associated with the object, an action where the main ingredient is the object.\n",
    "\n",
    "## Check-in:\n",
    "\n",
    "Fish Attributes: \n",
    "- length\n",
    "- color\n",
    "- species\n",
    "\n",
    "Methods: \n",
    "- die() \n",
    "- bite() \n",
    "- swim()\n",
    "\n",
    "## Example\n",
    "\n",
    "Attributes for `numpy.arrays`\n",
    "\n",
    "We can access a variable's attributes and methods by adding a period, `.` at the end of the variable's name.\n",
    "\n",
    "`variable.method()` or `variable.attribute`"
   ]
  },
  {
   "cell_type": "code",
   "execution_count": 21,
   "id": "9448b7e2-444d-4a4f-bbd9-045c27de2f38",
   "metadata": {
    "tags": []
   },
   "outputs": [
    {
     "data": {
      "text/plain": [
       "(2, 3)"
      ]
     },
     "execution_count": 21,
     "metadata": {},
     "output_type": "execute_result"
    }
   ],
   "source": [
    "a.shape"
   ]
  },
  {
   "cell_type": "code",
   "execution_count": 23,
   "id": "2d6569f0-0698-4930-bb7b-8bfdce3d7fc0",
   "metadata": {
    "tags": []
   },
   "outputs": [
    {
     "data": {
      "text/plain": [
       "tuple"
      ]
     },
     "execution_count": 23,
     "metadata": {},
     "output_type": "execute_result"
    }
   ],
   "source": [
    "type(a.shape)"
   ]
  },
  {
   "cell_type": "code",
   "execution_count": 27,
   "id": "6b11dc1c-513a-495a-a25c-6af184a62262",
   "metadata": {
    "tags": []
   },
   "outputs": [
    {
     "name": "stdout",
     "output_type": "stream",
     "text": [
      "[[1 1 2]\n",
      " [3 5 8]]\n"
     ]
    },
    {
     "data": {
      "text/plain": [
       "array([1, 1, 2])"
      ]
     },
     "execution_count": 27,
     "metadata": {},
     "output_type": "execute_result"
    }
   ],
   "source": [
    "# METHODS EXAMPLES\n",
    "print(a)\n",
    "# min() returns the minimum value along a specific axis\n",
    "a.min(axis=0)"
   ]
  },
  {
   "cell_type": "markdown",
   "id": "4106519f-51bf-4a89-a467-071cf3a0f76d",
   "metadata": {},
   "source": [
    "## Check-in\n",
    "\n",
    "We can also call the `min` method without any parameter:\n",
    "- optional parameter"
   ]
  },
  {
   "cell_type": "code",
   "execution_count": 28,
   "id": "1b939388-ef39-4bbd-97ad-9a4fcf9c5d14",
   "metadata": {
    "tags": []
   },
   "outputs": [
    {
     "data": {
      "text/plain": [
       "1"
      ]
     },
     "execution_count": 28,
     "metadata": {},
     "output_type": "execute_result"
    }
   ],
   "source": [
    "a.min()"
   ]
  },
  {
   "cell_type": "markdown",
   "id": "028c0435-bb2a-419c-948d-863525ad777a",
   "metadata": {},
   "source": [
    "Remember methods are functions associated with an object."
   ]
  },
  {
   "cell_type": "code",
   "execution_count": 29,
   "id": "f85ef8b6-a882-4174-a41c-4f4340f17147",
   "metadata": {
    "tags": []
   },
   "outputs": [
    {
     "data": {
      "text/plain": [
       "builtin_function_or_method"
      ]
     },
     "execution_count": 29,
     "metadata": {},
     "output_type": "execute_result"
    }
   ],
   "source": [
    "type(a.min)"
   ]
  },
  {
   "cell_type": "markdown",
   "id": "7e45987d-574e-4132-a792-14684f9fc30f",
   "metadata": {},
   "source": [
    "## Exercise\n",
    "1. Read the `print` function help. \n",
    "What is the **type** of the argument `sep`? Is this an optional or non-optional argument? Why?\n",
    "\n",
    "2. Create two new variables, one with the integer value 77 and another one with the string 99.\n",
    "\n",
    "3. Use your variables to print `77%99%77` by changing the value of one of the optional arguments in `print`."
   ]
  },
  {
   "cell_type": "code",
   "execution_count": 30,
   "id": "58b01a25-14f9-464b-9b5e-a07ef1d350a5",
   "metadata": {
    "tags": []
   },
   "outputs": [
    {
     "data": {
      "text/plain": [
       "\u001b[0;31mSignature:\u001b[0m \u001b[0mprint\u001b[0m\u001b[0;34m(\u001b[0m\u001b[0;34m*\u001b[0m\u001b[0margs\u001b[0m\u001b[0;34m,\u001b[0m \u001b[0msep\u001b[0m\u001b[0;34m=\u001b[0m\u001b[0;34m' '\u001b[0m\u001b[0;34m,\u001b[0m \u001b[0mend\u001b[0m\u001b[0;34m=\u001b[0m\u001b[0;34m'\\n'\u001b[0m\u001b[0;34m,\u001b[0m \u001b[0mfile\u001b[0m\u001b[0;34m=\u001b[0m\u001b[0;32mNone\u001b[0m\u001b[0;34m,\u001b[0m \u001b[0mflush\u001b[0m\u001b[0;34m=\u001b[0m\u001b[0;32mFalse\u001b[0m\u001b[0;34m)\u001b[0m\u001b[0;34m\u001b[0m\u001b[0;34m\u001b[0m\u001b[0m\n",
       "\u001b[0;31mDocstring:\u001b[0m\n",
       "Prints the values to a stream, or to sys.stdout by default.\n",
       "\n",
       "sep\n",
       "  string inserted between values, default a space.\n",
       "end\n",
       "  string appended after the last value, default a newline.\n",
       "file\n",
       "  a file-like object (stream); defaults to the current sys.stdout.\n",
       "flush\n",
       "  whether to forcibly flush the stream.\n",
       "\u001b[0;31mType:\u001b[0m      builtin_function_or_method"
      ]
     },
     "metadata": {},
     "output_type": "display_data"
    }
   ],
   "source": [
    "?print"
   ]
  },
  {
   "cell_type": "markdown",
   "id": "db3b5a4b-d1de-4cc9-a92a-72a87bf3a24d",
   "metadata": {},
   "source": [
    "1. Sep is used for string(spaces, letters, underscores). Optional bc it is not always necessary\n"
   ]
  },
  {
   "cell_type": "code",
   "execution_count": 36,
   "id": "ce0cea60-fe0c-4329-b573-3b49bed25ed8",
   "metadata": {
    "tags": []
   },
   "outputs": [
    {
     "name": "stdout",
     "output_type": "stream",
     "text": [
      "77 99\n",
      "77%99%77\n"
     ]
    }
   ],
   "source": [
    "# 2 \n",
    "# Integer/ Number\n",
    "x = 77\n",
    "\n",
    "#String\n",
    "y = '99' \n",
    "print(x,y)\n",
    "\n",
    "# 3 \n",
    "print(x,y,x, sep='%')"
   ]
  },
  {
   "cell_type": "code",
   "execution_count": null,
   "id": "bb077c15-c9c1-4c0b-8cae-21aabc0b46a9",
   "metadata": {},
   "outputs": [],
   "source": [
    "3. "
   ]
  }
 ],
 "metadata": {
  "kernelspec": {
   "display_name": "EDS220",
   "language": "python",
   "name": "eds220-env"
  },
  "language_info": {
   "codemirror_mode": {
    "name": "ipython",
    "version": 3
   },
   "file_extension": ".py",
   "mimetype": "text/x-python",
   "name": "python",
   "nbconvert_exporter": "python",
   "pygments_lexer": "ipython3",
   "version": "3.11.4"
  }
 },
 "nbformat": 4,
 "nbformat_minor": 5
}
