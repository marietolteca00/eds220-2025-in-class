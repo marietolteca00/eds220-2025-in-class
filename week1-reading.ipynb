{
 "cells": [
  {
   "cell_type": "markdown",
   "id": "a4684310-a9af-4550-b7b4-512553fc909b",
   "metadata": {},
   "source": [
    "# 1 pandas series and data frames\n",
    "\n",
    "In this lesson we introduce the two core objects in the pandas library, the pandas.Series and the pandas.DataFrame. The overall goal is to gain familiarity with these two objects, understand their relation to each other, and review Python data structures such as dictionaries and lists.\n",
    "\n",
    "# Learning objectives\n",
    "By the end of this lesson, students will be able to:\n",
    "\n",
    "- Explain the relation between pandas.Series and pandas.DataFrame\n",
    "- Construct simple pandas.Series and pandas.DataFrame from scratch using different initalization methods\n",
    "- Perform simple operations on pandas.Series\n",
    "- Navigate the pandas documentation to look for attributes and methods of pandas.Series and pandas.DataFrame\n"
   ]
  },
  {
   "cell_type": "markdown",
   "id": "6e46fa14-e9b6-4013-8969-40c5ac5cfcdc",
   "metadata": {},
   "source": [
    "## pandas\n",
    "pandas [1] [2] is a Python package to wrangle and analyze tabular data. It is built on top of NumPy and has become the core tool for doing data analysis in Python.\n",
    "\n",
    "The standard abbreviation for pandas is pd. Here we will import it together with NumPy:"
   ]
  },
  {
   "cell_type": "code",
   "execution_count": 1,
   "id": "357ef1c2-402b-4da5-8f1e-8235fedfba88",
   "metadata": {
    "tags": []
   },
   "outputs": [],
   "source": [
    "import pandas as pd\n",
    "import numpy as np"
   ]
  },
  {
   "cell_type": "markdown",
   "id": "bd8efc3b-3509-4a2c-b2dd-80da95280df1",
   "metadata": {},
   "source": [
    "## Series\n",
    "The first core object of pandas is the series. A series is a one-dimensional array of indexed data.\n",
    "A pandas.Series having an index is the main difference between a pandas.Series and a NumPy array. Let’s see the difference:"
   ]
  },
  {
   "cell_type": "code",
   "execution_count": 2,
   "id": "1a9b837c-9f61-46f9-a829-8e872a618087",
   "metadata": {
    "tags": []
   },
   "outputs": [
    {
     "name": "stdout",
     "output_type": "stream",
     "text": [
      "<class 'numpy.ndarray'>\n",
      "[-0.384458   -1.65194671  1.15775552 -0.36278921] \n",
      "\n",
      "<class 'pandas.core.series.Series'>\n",
      "0   -0.384458\n",
      "1   -1.651947\n",
      "2    1.157756\n",
      "3   -0.362789\n",
      "dtype: float64\n"
     ]
    }
   ],
   "source": [
    "# A numpy array\n",
    "arr = np.random.randn(4) # random values from std normal distribution\n",
    "print(type(arr))\n",
    "print(arr, \"\\n\")\n",
    "\n",
    "# A pandas series made from the previous array\n",
    "s = pd.Series(arr)\n",
    "print(type(s))\n",
    "print(s)"
   ]
  },
  {
   "cell_type": "markdown",
   "id": "228a27fe-9076-486e-88a3-b33b87d4a873",
   "metadata": {
    "tags": []
   },
   "source": [
    "### Notice the index is printed as part of the pandas.Series while, although the np.array is indexable, the index is not part of this data structure. Printing the pandas.Series also shows the values and their data type.\n",
    "\n",
    "Creating a pandas.Series\n",
    "The basic method to create a pandas.Series is to call"
   ]
  },
  {
   "cell_type": "markdown",
   "id": "2e5ac18c-c226-492a-ad8f-53642647ae13",
   "metadata": {
    "tags": []
   },
   "source": [
    "`s = pd.Series(data, index=index)`\n",
    "\n",
    "The **data** parameter can be:\n",
    "\n",
    "- a list or NumPy array,\n",
    "- a Python dictionary, or\n",
    "- a single number, boolean (`True`/ `False`), or string.\n",
    "\n",
    "The `index parameter is optional`, if we wish to include it, it must be a list of list of indices of the same length as data.\n",
    "\n",
    "Example: Creating a pandas.Series from a NumPy array\n",
    "Let’s create a pandas.Series from a NumPy array. To use this method we need to pass a NumPy array (or a list of objects that can be converted to NumPy types) as data. Here, we will also include the list [2023, 2024, 2025] to be used as an index:\n",
    "\n"
   ]
  },
  {
   "cell_type": "code",
   "execution_count": 3,
   "id": "2d90235f-b58a-4512-aabf-850feb82eef6",
   "metadata": {
    "tags": []
   },
   "outputs": [
    {
     "data": {
      "text/plain": [
       "2023    0\n",
       "2024    1\n",
       "2025    2\n",
       "dtype: int64"
      ]
     },
     "execution_count": 3,
     "metadata": {},
     "output_type": "execute_result"
    }
   ],
   "source": [
    "# A series from a numpy array \n",
    "pd.Series(np.arange(3), index=[2023, 2024, 2025])"
   ]
  },
  {
   "cell_type": "markdown",
   "id": "e5fe6fe7-f888-4748-af6e-d02b56aae75e",
   "metadata": {},
   "source": [
    "Example: Creating a pandas.Series from a list\n",
    "Here we create a pandas.Series from a list of strings. Remember that the index parameter is optional. If we don’t include it, the default is to make the index equal to [0,...,len(data)-1]. For example:"
   ]
  },
  {
   "cell_type": "code",
   "execution_count": 4,
   "id": "c954d00b-6143-44cf-94b3-9a669a7efb3c",
   "metadata": {
    "tags": []
   },
   "outputs": [
    {
     "data": {
      "text/plain": [
       "0    EDS 220\n",
       "1    EDS 222\n",
       "2    EDS 223\n",
       "3    EDS 242\n",
       "dtype: object"
      ]
     },
     "execution_count": 4,
     "metadata": {},
     "output_type": "execute_result"
    }
   ],
   "source": [
    "# A series from a list of strings with default index\n",
    "pd.Series(['EDS 220', 'EDS 222', 'EDS 223', 'EDS 242'])"
   ]
  },
  {
   "cell_type": "markdown",
   "id": "dc3ea9ea-0458-450d-b847-82ef8c44e161",
   "metadata": {},
   "source": [
    "#### Example: Creating a pandas.Series from a dictionary\n",
    "Recall that a dictionary is a set of `key-value pairs`. \n",
    "- If we **create a pandas.Series** via a `dictionary` the keys will become the index and the values the corresponding data."
   ]
  },
  {
   "cell_type": "code",
   "execution_count": 5,
   "id": "94069fe9-0a20-49ca-b33b-8fa60a66fd95",
   "metadata": {
    "tags": []
   },
   "outputs": [
    {
     "data": {
      "text/plain": [
       "key_0    2\n",
       "key_1    3\n",
       "key_2    5\n",
       "dtype: object"
      ]
     },
     "execution_count": 5,
     "metadata": {},
     "output_type": "execute_result"
    }
   ],
   "source": [
    "# Construct dictionary\n",
    "d = {'key_0':2, 'key_1':'3', 'key_2':5}\n",
    "\n",
    "# Initialize series using a dictionary\n",
    "pd.Series(d)"
   ]
  },
  {
   "cell_type": "markdown",
   "id": "529a3760-c46a-4486-9284-10209073ecb4",
   "metadata": {},
   "source": [
    "**Notice that in this and the previous example the data type of the values in the series is object. This data type in pandas usually indicates that the series is made up of strings. However, we can see in this example that the object data type can also indicate a mix of strings and numbers.**\n",
    "\n"
   ]
  },
  {
   "cell_type": "markdown",
   "id": "5b84a1b8-6a9c-41e9-91a0-346cd5cc4fa3",
   "metadata": {},
   "source": [
    "## Example: Creating a pandas.Series from a single value\n",
    "If we only provide a single number, boolean, or string as the data for the series, we need to provide an index. The value will be repeated to match the length of the index. Here, we create a series from a single float number with an index given by a list of strings:\n",
    "\n"
   ]
  },
  {
   "cell_type": "code",
   "execution_count": 6,
   "id": "d0db8bbd-76d3-4047-9d36-70f9307bea85",
   "metadata": {
    "tags": []
   },
   "outputs": [
    {
     "data": {
      "text/plain": [
       "A    3.0\n",
       "B    3.0\n",
       "C    3.0\n",
       "dtype: float64"
      ]
     },
     "execution_count": 6,
     "metadata": {},
     "output_type": "execute_result"
    }
   ],
   "source": [
    "pd.Series(3.0, index = ['A', 'B', 'C'])"
   ]
  },
  {
   "cell_type": "markdown",
   "id": "196cac82-7058-4c88-be8a-7b1676c9b109",
   "metadata": {},
   "source": [
    "## Simple operations\n",
    "Arithmetic operations work on series and so most NumPy functions. For example:\n",
    "\n"
   ]
  },
  {
   "cell_type": "code",
   "execution_count": 7,
   "id": "f0508614-b4eb-439b-84e2-40e04c4026bb",
   "metadata": {
    "tags": []
   },
   "outputs": [
    {
     "name": "stdout",
     "output_type": "stream",
     "text": [
      "Andrea      9.8\n",
      "Beth        7.3\n",
      "Carolina    6.5\n",
      "dtype: float64 \n",
      "\n",
      "Andrea      3.637971e+42\n",
      "Beth        5.052394e+31\n",
      "Carolina    1.694889e+28\n",
      "dtype: float64 \n",
      "\n",
      "Andrea      98\n",
      "Beth        73\n",
      "Carolina    65\n",
      "dtype: int64\n"
     ]
    }
   ],
   "source": [
    "# Define a series\n",
    "s = pd.Series([98,73,65],index=['Andrea', 'Beth', 'Carolina'])\n",
    "\n",
    "# Divide each element in series by 10\n",
    "print(s /10, '\\n')\n",
    "\n",
    "# Take the exponential of each element in series\n",
    "print(np.exp(s), '\\n')\n",
    "\n",
    "# Original series is unchanged\n",
    "print(s)"
   ]
  },
  {
   "cell_type": "markdown",
   "id": "86742d08-f41f-47ad-964f-69ff162af109",
   "metadata": {},
   "source": [
    "#### We can also produce new pandas.Series with `True/False` values indicating whether the elements in a series satisfy a condition or not:\n",
    "\n"
   ]
  },
  {
   "cell_type": "code",
   "execution_count": 8,
   "id": "2be0f8c4-7270-4c43-8be3-8c561978e59b",
   "metadata": {
    "tags": []
   },
   "outputs": [
    {
     "data": {
      "text/plain": [
       "Andrea       True\n",
       "Beth         True\n",
       "Carolina    False\n",
       "dtype: bool"
      ]
     },
     "execution_count": 8,
     "metadata": {},
     "output_type": "execute_result"
    }
   ],
   "source": [
    "s > 70"
   ]
  },
  {
   "cell_type": "markdown",
   "id": "b91bf11e-aa65-4207-9a53-0d358bea3afe",
   "metadata": {},
   "source": [
    "#### This kind of simple conditions on pandas.Series will be key when we are selecting data from data frames.\n",
    "\n",
    "## Identifying missing values\n",
    "In pandas we can represent a missing, NULL, or NA value with the float value numpy.nan, which stands for “not a number”. Let’s construct a small series with some NA values represented this way:\n",
    "\n"
   ]
  },
  {
   "cell_type": "code",
   "execution_count": 9,
   "id": "73a777e1-fd34-4a9d-8418-18276495379e",
   "metadata": {
    "tags": []
   },
   "outputs": [
    {
     "data": {
      "text/plain": [
       "0    1.0\n",
       "1    2.0\n",
       "2    NaN\n",
       "3    4.0\n",
       "4    NaN\n",
       "dtype: float64"
      ]
     },
     "execution_count": 9,
     "metadata": {},
     "output_type": "execute_result"
    }
   ],
   "source": [
    "# Series with NAs in it\n",
    "s = pd.Series([1, 2, np.nan, 4, np.nan])\n",
    "s"
   ]
  },
  {
   "cell_type": "markdown",
   "id": "7ec2acd1-dc0a-4ad1-b9c4-edcf0c48fb75",
   "metadata": {},
   "source": [
    "#### Notice the data type of the values it he series is still float64.\n",
    "\n",
    "#### The `hasnans` attribute for a pandas.Series returns True if there are any NA values in it and false otherwise:"
   ]
  },
  {
   "cell_type": "code",
   "execution_count": 10,
   "id": "b73fc83b-86e1-4926-8761-6248094789c5",
   "metadata": {
    "tags": []
   },
   "outputs": [
    {
     "data": {
      "text/plain": [
       "True"
      ]
     },
     "execution_count": 10,
     "metadata": {},
     "output_type": "execute_result"
    }
   ],
   "source": [
    "# Check if series has NAs\n",
    "s.hasnans"
   ]
  },
  {
   "cell_type": "markdown",
   "id": "693b50ea-b588-4b79-9943-685d96c1846e",
   "metadata": {},
   "source": [
    "## After detecting there are Na values, we might be intersted in knowing which elements in the series are NAs. We can do this using the isna method:\n",
    "\n"
   ]
  },
  {
   "cell_type": "code",
   "execution_count": 11,
   "id": "07e57def-20c4-44c1-9205-ad76887623d8",
   "metadata": {
    "tags": []
   },
   "outputs": [
    {
     "data": {
      "text/plain": [
       "0    False\n",
       "1    False\n",
       "2     True\n",
       "3    False\n",
       "4     True\n",
       "dtype: bool"
      ]
     },
     "execution_count": 11,
     "metadata": {},
     "output_type": "execute_result"
    }
   ],
   "source": [
    "s.isna()"
   ]
  },
  {
   "cell_type": "markdown",
   "id": "209761a5-4ea4-40aa-8eff-ba4a847d8848",
   "metadata": {},
   "source": [
    "#### The ouput is a pandas.Series of boolean values indicating if an element in the row at the given index is np.nan (True = is NA) or not (False = not NA).\n",
    "\n"
   ]
  },
  {
   "cell_type": "markdown",
   "id": "ddb57b21-83a9-4d2e-8a4c-d4e7d9b75382",
   "metadata": {},
   "source": [
    "# Check-In"
   ]
  },
  {
   "cell_type": "markdown",
   "id": "2a257d15-883f-4a97-838c-97bca8ad62d9",
   "metadata": {},
   "source": [
    "1. The integer number -999 is often used to represent missing values. Create a pandas.Series named s with four integer values, two of which are -999. The index of this series should be the the letters A through D.\n",
    "\n",
    "2. In the **pandas.Series documentation**, look for the method `mask()`. Use this method to update the series s so that the -999 values are replaced by NA values. HINT: check the first example in the method’s documentation.\n",
    "\n",
    "**Use dir(s) to see what can be placed after s.replace/fillna/drop/etc**"
   ]
  },
  {
   "cell_type": "code",
   "execution_count": 12,
   "id": "cc001075-2fa8-43a4-ab7b-1963edac921a",
   "metadata": {},
   "outputs": [
    {
     "name": "stdout",
     "output_type": "stream",
     "text": [
      "A      1\n",
      "B   -999\n",
      "C      3\n",
      "D   -999\n",
      "dtype: int64\n",
      "<class 'pandas.core.series.Series'>\n"
     ]
    }
   ],
   "source": [
    "# 1\n",
    "\n",
    "# Creating panda Series with indexing\n",
    "s = pd.Series([1, -999, 3, -999],\n",
    "              \n",
    "              # Optional Argument, adding our own INDEX\n",
    "              index=['A','B','C','D'])\n",
    "\n",
    "# Print\n",
    "print(s)\n",
    "print(type(s))"
   ]
  },
  {
   "cell_type": "code",
   "execution_count": 21,
   "id": "a714d36b-22b3-4af1-8e07-7745272fdf9a",
   "metadata": {
    "tags": []
   },
   "outputs": [
    {
     "name": "stdout",
     "output_type": "stream",
     "text": [
      "A    1.0\n",
      "B    NaN\n",
      "C    3.0\n",
      "D    NaN\n",
      "dtype: float64\n"
     ]
    }
   ],
   "source": [
    "# 2\n",
    "s.replace(-999, value='NA')\n",
    "\n",
    "# Use this instead. Using `mask` method\n",
    "s = s.mask(s == -999)\n",
    "print(s)"
   ]
  },
  {
   "cell_type": "markdown",
   "id": "798b4783-8163-4c05-ac2b-aeb16ed1b2b2",
   "metadata": {},
   "source": [
    "## Data Frame\n",
    "The pandas.DataFrame is the most used pandas object. It represents **tabular data** and we can think of it as a spreadhseet. Each column of a pandas.DataFrame is a pandas.Series.\n",
    "\n",
    "## Creating a pandas.DataFrame\n",
    "There are many ways of creating a **pandas.DataFrame**. We present one simple one in this section.\n",
    "\n",
    "We already mentioned each column of a pandas.DataFrame is a pandas.Series. In fact, the pandas.DataFrame is a dictionary of pandas.Series, with each column name being the key and the column values being the key’s value. Thus, we can create a pandas.DataFrame in this way:\n"
   ]
  },
  {
   "cell_type": "code",
   "execution_count": 22,
   "id": "a0391c53-7b81-4b70-a274-5d1f496c85e8",
   "metadata": {
    "tags": []
   },
   "outputs": [
    {
     "data": {
      "text/html": [
       "<div>\n",
       "<style scoped>\n",
       "    .dataframe tbody tr th:only-of-type {\n",
       "        vertical-align: middle;\n",
       "    }\n",
       "\n",
       "    .dataframe tbody tr th {\n",
       "        vertical-align: top;\n",
       "    }\n",
       "\n",
       "    .dataframe thead th {\n",
       "        text-align: right;\n",
       "    }\n",
       "</style>\n",
       "<table border=\"1\" class=\"dataframe\">\n",
       "  <thead>\n",
       "    <tr style=\"text-align: right;\">\n",
       "      <th></th>\n",
       "      <th>col_name_1</th>\n",
       "      <th>col_name_2</th>\n",
       "    </tr>\n",
       "  </thead>\n",
       "  <tbody>\n",
       "    <tr>\n",
       "      <th>0</th>\n",
       "      <td>0</td>\n",
       "      <td>3.1</td>\n",
       "    </tr>\n",
       "    <tr>\n",
       "      <th>1</th>\n",
       "      <td>1</td>\n",
       "      <td>3.2</td>\n",
       "    </tr>\n",
       "    <tr>\n",
       "      <th>2</th>\n",
       "      <td>2</td>\n",
       "      <td>3.3</td>\n",
       "    </tr>\n",
       "  </tbody>\n",
       "</table>\n",
       "</div>"
      ],
      "text/plain": [
       "   col_name_1  col_name_2\n",
       "0           0         3.1\n",
       "1           1         3.2\n",
       "2           2         3.3"
      ]
     },
     "execution_count": 22,
     "metadata": {},
     "output_type": "execute_result"
    }
   ],
   "source": [
    "# Initialize dictionary with columns' data \n",
    "d = {'col_name_1' : pd.Series(np.arange(3)),\n",
    "     'col_name_2' : pd.Series([3.1, 3.2, 3.3]),\n",
    "     }\n",
    "\n",
    "# Create data frame\n",
    "df = pd.DataFrame(d)\n",
    "df"
   ]
  },
  {
   "cell_type": "markdown",
   "id": "5baa2f39-0891-441f-9287-dc373cd45293",
   "metadata": {},
   "source": [
    "#### We can change the index by changing the `index` attribute in the data frame:"
   ]
  },
  {
   "cell_type": "code",
   "execution_count": 23,
   "id": "95ab0459-7022-44e7-807e-4061c127b9ba",
   "metadata": {
    "tags": []
   },
   "outputs": [
    {
     "data": {
      "text/html": [
       "<div>\n",
       "<style scoped>\n",
       "    .dataframe tbody tr th:only-of-type {\n",
       "        vertical-align: middle;\n",
       "    }\n",
       "\n",
       "    .dataframe tbody tr th {\n",
       "        vertical-align: top;\n",
       "    }\n",
       "\n",
       "    .dataframe thead th {\n",
       "        text-align: right;\n",
       "    }\n",
       "</style>\n",
       "<table border=\"1\" class=\"dataframe\">\n",
       "  <thead>\n",
       "    <tr style=\"text-align: right;\">\n",
       "      <th></th>\n",
       "      <th>col_name_1</th>\n",
       "      <th>col_name_2</th>\n",
       "    </tr>\n",
       "  </thead>\n",
       "  <tbody>\n",
       "    <tr>\n",
       "      <th>a</th>\n",
       "      <td>0</td>\n",
       "      <td>3.1</td>\n",
       "    </tr>\n",
       "    <tr>\n",
       "      <th>b</th>\n",
       "      <td>1</td>\n",
       "      <td>3.2</td>\n",
       "    </tr>\n",
       "    <tr>\n",
       "      <th>c</th>\n",
       "      <td>2</td>\n",
       "      <td>3.3</td>\n",
       "    </tr>\n",
       "  </tbody>\n",
       "</table>\n",
       "</div>"
      ],
      "text/plain": [
       "   col_name_1  col_name_2\n",
       "a           0         3.1\n",
       "b           1         3.2\n",
       "c           2         3.3"
      ]
     },
     "execution_count": 23,
     "metadata": {},
     "output_type": "execute_result"
    }
   ],
   "source": [
    "# Change index\n",
    "df.index = ['a','b','c']\n",
    "df"
   ]
  },
  {
   "cell_type": "markdown",
   "id": "ad2caa2e-b205-4dcb-9775-6183385e422a",
   "metadata": {},
   "source": [
    "### Check In\n",
    "#### We can access the data frame’s column names via the columns attribute. Update the column names to `C1` and `C2` by updating this attribute."
   ]
  },
  {
   "cell_type": "code",
   "execution_count": 24,
   "id": "80943021-57a4-492f-947f-80220a3b31af",
   "metadata": {
    "tags": []
   },
   "outputs": [
    {
     "data": {
      "text/plain": [
       "Index(['col_name_1', 'col_name_2'], dtype='object')"
      ]
     },
     "execution_count": 24,
     "metadata": {},
     "output_type": "execute_result"
    }
   ],
   "source": [
    "df.columns"
   ]
  },
  {
   "cell_type": "code",
   "execution_count": 25,
   "id": "abf83902-0cb2-4160-8dc7-fcd63da22049",
   "metadata": {
    "tags": []
   },
   "outputs": [
    {
     "data": {
      "text/html": [
       "<div>\n",
       "<style scoped>\n",
       "    .dataframe tbody tr th:only-of-type {\n",
       "        vertical-align: middle;\n",
       "    }\n",
       "\n",
       "    .dataframe tbody tr th {\n",
       "        vertical-align: top;\n",
       "    }\n",
       "\n",
       "    .dataframe thead th {\n",
       "        text-align: right;\n",
       "    }\n",
       "</style>\n",
       "<table border=\"1\" class=\"dataframe\">\n",
       "  <thead>\n",
       "    <tr style=\"text-align: right;\">\n",
       "      <th></th>\n",
       "      <th>C1</th>\n",
       "      <th>C2</th>\n",
       "    </tr>\n",
       "  </thead>\n",
       "  <tbody>\n",
       "    <tr>\n",
       "      <th>a</th>\n",
       "      <td>0</td>\n",
       "      <td>3.1</td>\n",
       "    </tr>\n",
       "    <tr>\n",
       "      <th>b</th>\n",
       "      <td>1</td>\n",
       "      <td>3.2</td>\n",
       "    </tr>\n",
       "    <tr>\n",
       "      <th>c</th>\n",
       "      <td>2</td>\n",
       "      <td>3.3</td>\n",
       "    </tr>\n",
       "  </tbody>\n",
       "</table>\n",
       "</div>"
      ],
      "text/plain": [
       "   C1   C2\n",
       "a   0  3.1\n",
       "b   1  3.2\n",
       "c   2  3.3"
      ]
     },
     "execution_count": 25,
     "metadata": {},
     "output_type": "execute_result"
    }
   ],
   "source": [
    "# Use `.columns` attribute to rename columns\n",
    "df.columns = ['C1', 'C2']\n",
    "df"
   ]
  },
  {
   "cell_type": "code",
   "execution_count": 26,
   "id": "ab4c88b1-be5d-4159-bbe1-f8d3bff03070",
   "metadata": {
    "tags": []
   },
   "outputs": [
    {
     "data": {
      "text/html": [
       "<div>\n",
       "<style scoped>\n",
       "    .dataframe tbody tr th:only-of-type {\n",
       "        vertical-align: middle;\n",
       "    }\n",
       "\n",
       "    .dataframe tbody tr th {\n",
       "        vertical-align: top;\n",
       "    }\n",
       "\n",
       "    .dataframe thead th {\n",
       "        text-align: right;\n",
       "    }\n",
       "</style>\n",
       "<table border=\"1\" class=\"dataframe\">\n",
       "  <thead>\n",
       "    <tr style=\"text-align: right;\">\n",
       "      <th></th>\n",
       "      <th>C1</th>\n",
       "      <th>C2</th>\n",
       "    </tr>\n",
       "  </thead>\n",
       "  <tbody>\n",
       "    <tr>\n",
       "      <th>a</th>\n",
       "      <td>0</td>\n",
       "      <td>3.1</td>\n",
       "    </tr>\n",
       "    <tr>\n",
       "      <th>b</th>\n",
       "      <td>1</td>\n",
       "      <td>3.2</td>\n",
       "    </tr>\n",
       "    <tr>\n",
       "      <th>c</th>\n",
       "      <td>2</td>\n",
       "      <td>3.3</td>\n",
       "    </tr>\n",
       "  </tbody>\n",
       "</table>\n",
       "</div>"
      ],
      "text/plain": [
       "   C1   C2\n",
       "a   0  3.1\n",
       "b   1  3.2\n",
       "c   2  3.3"
      ]
     },
     "execution_count": 26,
     "metadata": {},
     "output_type": "execute_result"
    }
   ],
   "source": [
    "df.rename(columns = {'col_name_1':'C1', 'col_name_2':'C2'})"
   ]
  },
  {
   "cell_type": "code",
   "execution_count": null,
   "id": "a45e556b-aa8a-4792-b368-6aea32864c20",
   "metadata": {},
   "outputs": [],
   "source": []
  }
 ],
 "metadata": {
  "kernelspec": {
   "display_name": "EDS220",
   "language": "python",
   "name": "eds220-env"
  },
  "language_info": {
   "codemirror_mode": {
    "name": "ipython",
    "version": 3
   },
   "file_extension": ".py",
   "mimetype": "text/x-python",
   "name": "python",
   "nbconvert_exporter": "python",
   "pygments_lexer": "ipython3",
   "version": "3.11.4"
  }
 },
 "nbformat": 4,
 "nbformat_minor": 5
}
