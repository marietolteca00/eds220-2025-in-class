{
 "cells": [
  {
   "cell_type": "markdown",
   "id": "41cd7f70-f311-42f7-a020-7acd032fe6b0",
   "metadata": {},
   "source": [
    "# Reading - 3 Basic plotting\n",
    "In this lesson we will learn to use the `plot()` method of a **pandas.DataFrame** to create simple exploratory graphs from tabular data.\n",
    "\n",
    "Learning objectives:\n",
    "By the end of this lesson students will be able to:\n",
    "\n",
    "- Obtain and interpret preliminary information about a pandas.DataFrame using methods such as `info() (structure)`, `describe() (summary statistics)`, `nunique() (unique value counts)`, `unique() (distinct values)`, and `value_counts() (frequency counts)`\n",
    "- Create simple exploratory plots using the plot() method for pandas.DataFrames to visualize trends and distributions\n",
    "- Understand the concept of performing operations on a pandas.DataFrame in-place\n",
    "- Apply method chaining to enable concise and readable code\n",
    "\n",
    "## About the data\n",
    "\n",
    "In this lesson we will reuse the annual estimates of bird species abundance in four coastal wetlands along the California coast that we used in the previous lesson on subsetting a pandas.DataFrame. This dataset was derived for education purposes for this course from the UCSB SONGS Mitigation Monitoring: Wetland Performance Standard - Bird Abundance and Species Richness dataset [1]. The SONGS dataset was collected as part of the San Onofre Nuclear Generating Station (SONGS) San Dieguito Wetland Restoration monitoring program.\n",
    "\n",
    "The annual bird species abundance estimates is a CSV file with 13 columns and 14 rows. You can see the first three rows below.\n",
    "\n",
    "The four wetlands where the bird surveys occured are Carpinteria Salt Marsh (CSM), Mugu Lagoon (MUL), the San Dieguito Wetland (SDW), and the Tijuana Estuary (TJE). The values from the second column to the last column correspond to the number of different bird species recorded across the survey sites in each wetland during winter, spring, and fall of a given year. For example, the CSM_fall column has the number of species recorded in fall at Carpinteria Salt Marsh across years. The year column corresponds to the calendar year on which the data was collected. Surveys have happened yearly from 2010 to 2023.\n",
    "\n",
    "# plot() method\n",
    "Let us start by loading the data:\n"
   ]
  },
  {
   "cell_type": "code",
   "execution_count": 1,
   "id": "8681f1bb-5471-4f9e-a6f1-f23c3008ae9b",
   "metadata": {
    "tags": []
   },
   "outputs": [
    {
     "data": {
      "text/html": [
       "<div>\n",
       "<style scoped>\n",
       "    .dataframe tbody tr th:only-of-type {\n",
       "        vertical-align: middle;\n",
       "    }\n",
       "\n",
       "    .dataframe tbody tr th {\n",
       "        vertical-align: top;\n",
       "    }\n",
       "\n",
       "    .dataframe thead th {\n",
       "        text-align: right;\n",
       "    }\n",
       "</style>\n",
       "<table border=\"1\" class=\"dataframe\">\n",
       "  <thead>\n",
       "    <tr style=\"text-align: right;\">\n",
       "      <th></th>\n",
       "      <th>year</th>\n",
       "      <th>CSM_winter</th>\n",
       "      <th>CSM_spring</th>\n",
       "      <th>CSM_fall</th>\n",
       "      <th>MUL_winter</th>\n",
       "      <th>MUL_spring</th>\n",
       "      <th>MUL_fall</th>\n",
       "      <th>SDW_winter</th>\n",
       "      <th>SDW_spring</th>\n",
       "      <th>SDW_fall</th>\n",
       "      <th>TJE_winter</th>\n",
       "      <th>TJE_spring</th>\n",
       "      <th>TJE_fall</th>\n",
       "    </tr>\n",
       "  </thead>\n",
       "  <tbody>\n",
       "    <tr>\n",
       "      <th>0</th>\n",
       "      <td>2010</td>\n",
       "      <td>39.0</td>\n",
       "      <td>40.0</td>\n",
       "      <td>50.0</td>\n",
       "      <td>45.0</td>\n",
       "      <td>NaN</td>\n",
       "      <td>61.0</td>\n",
       "      <td>NaN</td>\n",
       "      <td>75.0</td>\n",
       "      <td>85.0</td>\n",
       "      <td>NaN</td>\n",
       "      <td>NaN</td>\n",
       "      <td>81.0</td>\n",
       "    </tr>\n",
       "    <tr>\n",
       "      <th>1</th>\n",
       "      <td>2011</td>\n",
       "      <td>48.0</td>\n",
       "      <td>44.0</td>\n",
       "      <td>NaN</td>\n",
       "      <td>58.0</td>\n",
       "      <td>52.0</td>\n",
       "      <td>NaN</td>\n",
       "      <td>78.0</td>\n",
       "      <td>74.0</td>\n",
       "      <td>NaN</td>\n",
       "      <td>67.0</td>\n",
       "      <td>70.0</td>\n",
       "      <td>NaN</td>\n",
       "    </tr>\n",
       "    <tr>\n",
       "      <th>2</th>\n",
       "      <td>2012</td>\n",
       "      <td>51.0</td>\n",
       "      <td>43.0</td>\n",
       "      <td>49.0</td>\n",
       "      <td>57.0</td>\n",
       "      <td>58.0</td>\n",
       "      <td>53.0</td>\n",
       "      <td>71.0</td>\n",
       "      <td>72.0</td>\n",
       "      <td>73.0</td>\n",
       "      <td>70.0</td>\n",
       "      <td>63.0</td>\n",
       "      <td>69.0</td>\n",
       "    </tr>\n",
       "    <tr>\n",
       "      <th>3</th>\n",
       "      <td>2013</td>\n",
       "      <td>42.0</td>\n",
       "      <td>46.0</td>\n",
       "      <td>38.0</td>\n",
       "      <td>60.0</td>\n",
       "      <td>58.0</td>\n",
       "      <td>62.0</td>\n",
       "      <td>69.0</td>\n",
       "      <td>70.0</td>\n",
       "      <td>70.0</td>\n",
       "      <td>69.0</td>\n",
       "      <td>74.0</td>\n",
       "      <td>64.0</td>\n",
       "    </tr>\n",
       "    <tr>\n",
       "      <th>4</th>\n",
       "      <td>2014</td>\n",
       "      <td>38.0</td>\n",
       "      <td>43.0</td>\n",
       "      <td>45.0</td>\n",
       "      <td>49.0</td>\n",
       "      <td>52.0</td>\n",
       "      <td>57.0</td>\n",
       "      <td>61.0</td>\n",
       "      <td>78.0</td>\n",
       "      <td>71.0</td>\n",
       "      <td>60.0</td>\n",
       "      <td>81.0</td>\n",
       "      <td>62.0</td>\n",
       "    </tr>\n",
       "  </tbody>\n",
       "</table>\n",
       "</div>"
      ],
      "text/plain": [
       "   year  CSM_winter  CSM_spring  CSM_fall  MUL_winter  MUL_spring  MUL_fall  \\\n",
       "0  2010        39.0        40.0      50.0        45.0         NaN      61.0   \n",
       "1  2011        48.0        44.0       NaN        58.0        52.0       NaN   \n",
       "2  2012        51.0        43.0      49.0        57.0        58.0      53.0   \n",
       "3  2013        42.0        46.0      38.0        60.0        58.0      62.0   \n",
       "4  2014        38.0        43.0      45.0        49.0        52.0      57.0   \n",
       "\n",
       "   SDW_winter  SDW_spring  SDW_fall  TJE_winter  TJE_spring  TJE_fall  \n",
       "0         NaN        75.0      85.0         NaN         NaN      81.0  \n",
       "1        78.0        74.0       NaN        67.0        70.0       NaN  \n",
       "2        71.0        72.0      73.0        70.0        63.0      69.0  \n",
       "3        69.0        70.0      70.0        69.0        74.0      64.0  \n",
       "4        61.0        78.0      71.0        60.0        81.0      62.0  "
      ]
     },
     "execution_count": 1,
     "metadata": {},
     "output_type": "execute_result"
    }
   ],
   "source": [
    "import pandas as pd\n",
    "\n",
    "# Read in file\n",
    "df = pd.read_csv('data/wetlands_seasonal_bird_diversity.csv')\n",
    "\n",
    "# Check the first 5 rows\n",
    "df.head()"
   ]
  },
  {
   "cell_type": "markdown",
   "id": "0fe4fbc7-87d8-425b-aed3-f3c7c79d57d2",
   "metadata": {},
   "source": [
    "A **pandas.DataFrame** has a `built-in method plot()` for plotting. When we call it without specifying any other parameters plot() creates one line plot for each of the columns with numeric data.\n",
    "\n"
   ]
  },
  {
   "cell_type": "code",
   "execution_count": 2,
   "id": "1e222050-d0c7-4009-8fd3-17f20d5242eb",
   "metadata": {
    "tags": []
   },
   "outputs": [
    {
     "data": {
      "text/plain": [
       "<Axes: >"
      ]
     },
     "execution_count": 2,
     "metadata": {},
     "output_type": "execute_result"
    },
    {
     "data": {
      "image/png": "[encoded data removed]",
      "text/plain": [
       "<Figure size 640x480 with 1 Axes>"
      ]
     },
     "metadata": {},
     "output_type": "display_data"
    }
   ],
   "source": [
    "# Default plot(): one line plot per column with numeric data\n",
    "df.plot()"
   ]
  },
  {
   "cell_type": "markdown",
   "id": "ca1bc7b4-0f35-40f7-aabf-a9d5751893e5",
   "metadata": {},
   "source": [
    "As we can see, this doesn’t make much sense! In particular, look at the x-axis. The default for `plot` is to use the values of the index as the x-axis values. Let’s see some examples about how to improve this situation.\n",
    "\n",
    "# Line plots\n",
    "We can make a line plot of one column against another by using the following the general syntax:\n",
    "\n",
    "\n",
    "`df.plot(x='x_values_column', y='y_values_column')`\n",
    "\n",
    "**Example**\n",
    "If we want to plot the bird surveys at Carpinteria Salt Marsh across years we can do:"
   ]
  },
  {
   "cell_type": "code",
   "execution_count": 3,
   "id": "86797c91-3674-4531-9159-6e9a8f5278bc",
   "metadata": {
    "tags": []
   },
   "outputs": [
    {
     "data": {
      "text/plain": [
       "<Axes: xlabel='year'>"
      ]
     },
     "execution_count": 3,
     "metadata": {},
     "output_type": "execute_result"
    },
    {
     "data": {
      "image/png": "[encoded data removed]",
      "text/plain": [
       "<Figure size 640x480 with 1 Axes>"
      ]
     },
     "metadata": {},
     "output_type": "display_data"
    }
   ],
   "source": [
    "# Birds species registered during winter at CSM yearly\n",
    "df.plot(x='year', y='CSM_winter')"
   ]
  },
  {
   "cell_type": "markdown",
   "id": "dcbfab61-a91d-4811-8d19-6e06f5c599ef",
   "metadata": {},
   "source": [
    "We can do some basic customization specifying other parameters of the `plot()` method. Some basic ones are:\n",
    "\n",
    "- `title`: title to use for the plot.\n",
    "- `xlabel`: name to use for the x-label on x-axis\n",
    "- `ylabel`: bame to use for the y-label on y-axis\n",
    "- `color`: change the color of our plot\n",
    "- `legend`: boolean value `True` or `False`. True (default) includes the legend, `False` removes the legend\n",
    "\n",
    "In action:\n",
    "\n"
   ]
  },
  {
   "cell_type": "code",
   "execution_count": 4,
   "id": "a4502dd9-c00d-4ed7-af52-76d601ae145f",
   "metadata": {
    "tags": []
   },
   "outputs": [
    {
     "data": {
      "text/plain": [
       "<Axes: title={'center': 'Bird species registered during winter at Carpinteria Salt Marsh'}, xlabel='Year', ylabel='Number of bird species'>"
      ]
     },
     "execution_count": 4,
     "metadata": {},
     "output_type": "execute_result"
    },
    {
     "data": {
      "image/png": "[encoded data removed]",
      "text/plain": [
       "<Figure size 640x480 with 1 Axes>"
      ]
     },
     "metadata": {},
     "output_type": "display_data"
    }
   ],
   "source": [
    "df.plot(x='year', \n",
    "        y='CSM_winter',\n",
    "        title='Bird species registered during winter at Carpinteria Salt Marsh',\n",
    "        xlabel='Year',\n",
    "        ylabel='Number of bird species',\n",
    "        color='green',\n",
    "        legend=False\n",
    "        )\n",
    "\n",
    "# Can you hide the message ??"
   ]
  },
  {
   "cell_type": "markdown",
   "id": "bd4aa0fa-2ca4-4b83-af1d-9cf6dee74c87",
   "metadata": {},
   "source": [
    "You can see all the `optional parameters for the plot() function in the documentation.`\n",
    "\n",
    "# Check-in !\n",
    "1. Plot a graph of the spring bird surveys at Mugu Lagoon with respect to the years. Include some basic customization.\n",
    "\n",
    "\n",
    "\n",
    "2. Use the isna() method for pandas.Series and row selection to select the rows in which Mugu Lagoon has NAs during the spring survey.\n",
    "\n",
    "\n"
   ]
  },
  {
   "cell_type": "code",
   "execution_count": 5,
   "id": "7950e5ce-2781-469e-99d7-d58956b5c8f9",
   "metadata": {
    "tags": []
   },
   "outputs": [
    {
     "data": {
      "text/html": [
       "<div>\n",
       "<style scoped>\n",
       "    .dataframe tbody tr th:only-of-type {\n",
       "        vertical-align: middle;\n",
       "    }\n",
       "\n",
       "    .dataframe tbody tr th {\n",
       "        vertical-align: top;\n",
       "    }\n",
       "\n",
       "    .dataframe thead th {\n",
       "        text-align: right;\n",
       "    }\n",
       "</style>\n",
       "<table border=\"1\" class=\"dataframe\">\n",
       "  <thead>\n",
       "    <tr style=\"text-align: right;\">\n",
       "      <th></th>\n",
       "      <th>year</th>\n",
       "      <th>CSM_winter</th>\n",
       "      <th>CSM_spring</th>\n",
       "      <th>CSM_fall</th>\n",
       "      <th>MUL_winter</th>\n",
       "      <th>MUL_spring</th>\n",
       "      <th>MUL_fall</th>\n",
       "      <th>SDW_winter</th>\n",
       "      <th>SDW_spring</th>\n",
       "      <th>SDW_fall</th>\n",
       "      <th>TJE_winter</th>\n",
       "      <th>TJE_spring</th>\n",
       "      <th>TJE_fall</th>\n",
       "    </tr>\n",
       "  </thead>\n",
       "  <tbody>\n",
       "    <tr>\n",
       "      <th>0</th>\n",
       "      <td>2010</td>\n",
       "      <td>39.0</td>\n",
       "      <td>40.0</td>\n",
       "      <td>50.0</td>\n",
       "      <td>45.0</td>\n",
       "      <td>NaN</td>\n",
       "      <td>61.0</td>\n",
       "      <td>NaN</td>\n",
       "      <td>75.0</td>\n",
       "      <td>85.0</td>\n",
       "      <td>NaN</td>\n",
       "      <td>NaN</td>\n",
       "      <td>81.0</td>\n",
       "    </tr>\n",
       "    <tr>\n",
       "      <th>1</th>\n",
       "      <td>2011</td>\n",
       "      <td>48.0</td>\n",
       "      <td>44.0</td>\n",
       "      <td>NaN</td>\n",
       "      <td>58.0</td>\n",
       "      <td>52.0</td>\n",
       "      <td>NaN</td>\n",
       "      <td>78.0</td>\n",
       "      <td>74.0</td>\n",
       "      <td>NaN</td>\n",
       "      <td>67.0</td>\n",
       "      <td>70.0</td>\n",
       "      <td>NaN</td>\n",
       "    </tr>\n",
       "  </tbody>\n",
       "</table>\n",
       "</div>"
      ],
      "text/plain": [
       "   year  CSM_winter  CSM_spring  CSM_fall  MUL_winter  MUL_spring  MUL_fall  \\\n",
       "0  2010        39.0        40.0      50.0        45.0         NaN      61.0   \n",
       "1  2011        48.0        44.0       NaN        58.0        52.0       NaN   \n",
       "\n",
       "   SDW_winter  SDW_spring  SDW_fall  TJE_winter  TJE_spring  TJE_fall  \n",
       "0         NaN        75.0      85.0         NaN         NaN      81.0  \n",
       "1        78.0        74.0       NaN        67.0        70.0       NaN  "
      ]
     },
     "execution_count": 5,
     "metadata": {},
     "output_type": "execute_result"
    }
   ],
   "source": [
    "# checking columns to see name of variable\n",
    "df.columns\n",
    "df.head(2)"
   ]
  },
  {
   "cell_type": "code",
   "execution_count": 6,
   "id": "58a9593d-a9cd-4a41-8d8f-d5d0ce4e85cf",
   "metadata": {
    "tags": []
   },
   "outputs": [
    {
     "data": {
      "text/plain": [
       "<Axes: title={'center': 'Bird species registered during spring at Mugu Lagoon'}, xlabel='Year', ylabel='Number of bird species'>"
      ]
     },
     "execution_count": 6,
     "metadata": {},
     "output_type": "execute_result"
    },
    {
     "data": {
      "image/png": "[encoded data removed]",
      "text/plain": [
       "<Figure size 640x480 with 1 Axes>"
      ]
     },
     "metadata": {},
     "output_type": "display_data"
    }
   ],
   "source": [
    "df.plot(x='year', \n",
    "        y='MUL_spring',\n",
    "        title='Bird species registered during spring at Mugu Lagoon',\n",
    "        xlabel='Year',\n",
    "        ylabel='Number of bird species',\n",
    "        color='blue',\n",
    "        legend=True\n",
    "        )\n",
    "#possibly some na values during the covid year/s (2019-2021)"
   ]
  },
  {
   "cell_type": "code",
   "execution_count": 7,
   "id": "f315d446-3604-49f1-b77b-9462787f2d28",
   "metadata": {
    "tags": []
   },
   "outputs": [
    {
     "ename": "SyntaxError",
     "evalue": "invalid syntax (2088108271.py, line 8)",
     "output_type": "error",
     "traceback": [
      "\u001b[0;36m  Cell \u001b[0;32mIn[7], line 8\u001b[0;36m\u001b[0m\n\u001b[0;31m    Only 13 rows of data. Row 0 and Row 10 have NaN values (missing vlaue/not defined)\u001b[0m\n\u001b[0m         ^\u001b[0m\n\u001b[0;31mSyntaxError\u001b[0m\u001b[0;31m:\u001b[0m invalid syntax\n"
     ]
    }
   ],
   "source": [
    "#2.\n",
    "df['MUL_spring'].isna()\n",
    "# Can add .sum() to show how many NA's values are present\n",
    "df['MUL_spring'].isna().sum()\n",
    "\n",
    "print(df['MUL_spring'])\n",
    "\n",
    "Only 13 rows of data. Row 0 and Row 10 have NaN values (missing vlaue/not defined)"
   ]
  },
  {
   "cell_type": "markdown",
   "id": "a4d886f4-ade5-4f44-87b4-6d823325c712",
   "metadata": {},
   "source": [
    "# Multiple line plots\n",
    "We can plot multiple line plots by updating these parameters in the `plot()` method:\n",
    "\n",
    "- `y` : a list of column names that will be plotted against the x-axis\n",
    "- `color`: a dictionary `{'column_1' : 'color_1', 'column_2':'color_2}` specifying the color of each column’s line plot\n",
    "\n",
    "# Example\n",
    "Let’s say we want to compare the bird surveys at the Tijuana Estuary during spring and fall across years."
   ]
  },
  {
   "cell_type": "code",
   "execution_count": null,
   "id": "42a3da00-0ae5-440c-b81a-bce4d4d6fc84",
   "metadata": {
    "tags": []
   },
   "outputs": [],
   "source": [
    "df.plot(x='year', \n",
    "        y=['TJE_spring', 'TJE_fall'],\n",
    "        title = 'Seasonal bird surveys at Tijuana Estuary',\n",
    "        xlabel='Year',\n",
    "        ylabel='Number of bird species',        \n",
    "        color = {'TJE_spring':'#F48FB1',\n",
    "                 'TJE_fall': '#AB47BC'\n",
    "                 }\n",
    "        )"
   ]
  },
  {
   "cell_type": "markdown",
   "id": "c5a55af0-108b-49b5-ae8b-7a6ca194d812",
   "metadata": {},
   "source": [
    "Notice that for specifying the colors we used a HEX code, this gives us more control over how our graph looks.\n",
    "\n",
    "We can also create separate plots for each column by setting the subset to True."
   ]
  },
  {
   "cell_type": "code",
   "execution_count": null,
   "id": "cef4e9a9-857a-4b1f-968b-85efdc4b02b2",
   "metadata": {
    "tags": []
   },
   "outputs": [],
   "source": [
    "df.plot(x='year', \n",
    "        y=['TJE_spring', 'TJE_fall'],\n",
    "        title = 'Seasonal bird surveys at Tijuana Estuary',\n",
    "        xlabel='Year',\n",
    "        ylabel='Number of bird species',        \n",
    "        color = {'TJE_spring':'#F48FB1',\n",
    "                 'TJE_fall': '#AB47BC'\n",
    "                 },\n",
    "        subplots=True\n",
    "        )"
   ]
  },
  {
   "cell_type": "markdown",
   "id": "9b0d4305-72c7-4c7b-86cf-cba4fb6bf3dc",
   "metadata": {},
   "source": [
    "# Updating the index\n",
    "**Updating the index** of our data frame to be something other than the default integers numbering the rows can be a useful operation for plotting. To update the index we use the `set_index()` method for a `pandas.DataFrame`. It’s general syntax is:\n",
    "\n",
    "`df = df.set_index(new_index)`\n",
    "\n",
    "\n",
    "where `new_index` is:\n",
    "\n",
    "the name of the column in the data frame df we want to use as new index\n",
    "if our new index is not a column in the data frame, an array or pandas.Series of the same length as our data frame (we need one index per row).\n",
    "This operation does not happen in-place.\n",
    "\n",
    "- A funciton **acting in-place** means that our original object (in this case a pandas.DataFrame) is modified.\n",
    "- If the function **does not act in-place**, a new object (in this case a pandas.DataFrame) is created and the original is not modified.\n",
    "- If we wanted to update our df data frame we could do an **explicit assignment** to reassign the output of `set_index()` to df:\n",
    "\n",
    "## Set `column_name` column in df as the new index (reassignment)\n",
    "\n",
    "`df = df.set_index('column_name')`\n",
    "\n",
    "**or use the optional inplace parameter:**\n",
    "\n",
    "## Set `column_name` column in df as the new index (modify df in-place)\n",
    "\n",
    "`df.set_index('column_name', inplace=True)`\n",
    "\n",
    "\n",
    "\n",
    "In general, avoid using the `inplace=True` argument and favor explicit variable assignments\n",
    "Check the information about the `inplace` parameter in the set_index() documentation. You will often see the inplace parameter in methods for pandas.DataFrames. The best practice is to avoid `inplace=True` for better readability and maintainable code. Explicitly assigning the result to a new variable or the same variable makes it clear that an operation has occurred.\n",
    "\n",
    "# Example\n",
    "In all our previous examples we used the year column as the x-axis. Since all our bird survey variables are dependent on the year, it makes sense to use the year column as the index of the data frame:\n",
    "\n"
   ]
  },
  {
   "cell_type": "code",
   "execution_count": null,
   "id": "2e9f8a93-3521-447a-9345-1bf3dc6a6bfa",
   "metadata": {
    "tags": []
   },
   "outputs": [],
   "source": [
    "# Update index to be the year column\n",
    "df = df.set_index('year')\n",
    "df.head()"
   ]
  },
  {
   "cell_type": "code",
   "execution_count": null,
   "id": "839038de-20c5-4031-baee-7b648b80e2b4",
   "metadata": {
    "tags": []
   },
   "outputs": [],
   "source": [
    "# Simple plot of Carpinteria Salt Marsh winter surveys\n",
    "df.plot(y='CSM_winter')"
   ]
  },
  {
   "cell_type": "markdown",
   "id": "d2ff2150-7960-42f0-9a70-3cff235cd924",
   "metadata": {},
   "source": [
    "If needed, we can reset the index to be the numbering of the rows:\n",
    "\n"
   ]
  },
  {
   "cell_type": "code",
   "execution_count": null,
   "id": "e77135fc-afd1-4aab-8b32-36cb05bbfb7d",
   "metadata": {
    "tags": []
   },
   "outputs": [],
   "source": [
    "# To Reset_index()\n",
    "\n",
    "df = df.reset_index()\n",
    "df.head()"
   ]
  },
  {
   "cell_type": "markdown",
   "id": "6d80f886-0da0-41ce-ba1a-8b67ef14a689",
   "metadata": {},
   "source": [
    "## Check-in !\n",
    "1. Without running the code, give a step-by-step breakdown of what this code is doing:\n",
    "`df.set_index('year').loc[:,'SDW_winter':'TJE_fall'].plot()`\n",
    "** this is method chaining, similar to piping in R**\n",
    "\n",
    "2. Is this code modifying the data frame df? Why or why not?\n",
    "\n",
    "3. Run the code and examine the graph. Review the data description. Do we have all the necessary information to make sure it makes sense to directly compare the surveys at these different sites?"
   ]
  },
  {
   "cell_type": "code",
   "execution_count": null,
   "id": "3c41ecf2-6791-464b-a415-6c16e8621dac",
   "metadata": {
    "tags": []
   },
   "outputs": [],
   "source": [
    "# 1. Example of Method chaining\n",
    "# Instead of have 0-13 as the index, otherwise known as object id to identify \n",
    "# rows. Similar to gis\n",
    "# We are now setting the index to the 'year' column\n",
    "df.set_index('year')\n",
    "# .loc allows to select specific rows, columns, or combination of both, like in this case\n",
    "# Here we are selecting only data from SDW_spring through TJE_fall.\n",
    "# with .loc it will grab those two columns and everything in between.\n",
    ".loc[:,'SDW_winter':'TJE_fall'].plot()"
   ]
  },
  {
   "cell_type": "code",
   "execution_count": null,
   "id": "6f8ac462-26ec-4271-99f7-ea99111ef1aa",
   "metadata": {},
   "outputs": [],
   "source": [
    "df.set_index('year').loc[:,'SDW_winter':'TJE_fall'].plot()"
   ]
  },
  {
   "cell_type": "markdown",
   "id": "b3af42ea-1476-48e5-bd31-24e90ab180a3",
   "metadata": {},
   "source": [
    "#### 2. No, becuase we are using method chaining. Also not assiging it to a new variable.\n",
    "#### 3. I feel like we have the data to compare each site, but it could be organized by each sites, instead of all together."
   ]
  },
  {
   "cell_type": "markdown",
   "id": "c5c7850a-d09c-4213-b532-097f223570f3",
   "metadata": {},
   "source": [
    "# Method chaining\n",
    "The code used in the check-in\n",
    "\n",
    "`df.set_index('year').loc[:,'SDW_winter':'TJE_fall'].plot()`\n",
    "\n",
    "is an example of **method chaining**. Each method in the chain returns an object (typically the same object), allowing the next method to be called directly on the result. This is a powerful technique that makes code concise and readable.\n",
    "\n",
    "Chaining methods can result in lines of code that are too long and hard to read. We can break up chains of methods by using parenthesis:"
   ]
  },
  {
   "cell_type": "code",
   "execution_count": null,
   "id": "e90edbce-02e7-4528-865c-d163fc56f1a7",
   "metadata": {
    "tags": []
   },
   "outputs": [],
   "source": [
    "(df.set_index('year')\n",
    "  .loc[:,'SDW_winter':'TJE_fall']\n",
    "  .plot()\n",
    ")"
   ]
  },
  {
   "cell_type": "markdown",
   "id": "e0a9dc3f-152e-4079-8b91-bdd0603f4979",
   "metadata": {},
   "source": [
    "**Method chaining and the R pipe operator**\n",
    "If you are familiar with R, you may have noticed that the period . in the method chianing acts in the same way as the R pipe operator (%>% or |>). The syntax of one method per line is similar to what is used in the tidyverse, except that the pipe is used at the end of the line, while the period is used at the beginning of the line.\n",
    "\n",
    "An **alternative to the previous code chaining** could have been:\n",
    "\n"
   ]
  },
  {
   "cell_type": "code",
   "execution_count": null,
   "id": "42d7b946-d213-4ea1-89af-7afe674b0c2d",
   "metadata": {
    "tags": []
   },
   "outputs": [],
   "source": [
    "year_index_df = df.set_index('year')\n",
    "subset_df = year_index_df.loc[:,'SDW_winter':'TJE_fall']\n",
    "subset_df.plot()"
   ]
  },
  {
   "cell_type": "markdown",
   "id": "be01e30f-eae2-49e7-899f-1b07b35f5ac4",
   "metadata": {},
   "source": [
    "While this accomplishes the same output, several variables are created along the way and it can be difficult to keep track of what is what.\n",
    "\n",
    "\n",
    "**Use method chaining wisely**\n",
    "Method chaining is particularly useful in pandas for streamlining multiple data manipulations. However:\n",
    "\n",
    "- method chaining should be used with care to avoid overly complex and difficult-to-debug code, and\n",
    "- if you’re not familiar with the methods, it’s better to apply them individually and review the results after each step.\n",
    "\n",
    "We will move on to another dataset for the rest of this lesson.\n",
    "\n",
    "# About the data\n",
    "For the next plots we will use the Palmer Penguins dataset [2] developed by Drs. Allison Horst, Alison Hill and Kristen Gorman. This dataset contains size measurements for three penguin species in the Palmer Archipelago, Antarctica during 2007, 2008, and 2009.\n",
    "\n",
    "The dataset has 344 rows and 8 columns. We can see it’s first three rows below:\n",
    "\n",
    "# Data exploration\n",
    "The data is usually accessed through the palmerpenguins R data package [2]. In this lesson we will access the CSV directly into our workspace using the URL: https://raw.githubusercontent.com/allisonhorst/palmerpenguins/main/inst/extdata/penguins.csv\n",
    "\n",
    "### Let’s start by reading in the data:\n",
    "\n"
   ]
  },
  {
   "cell_type": "code",
   "execution_count": null,
   "id": "c5c45237-5eb6-4887-bef7-f75ebdcc3844",
   "metadata": {
    "tags": []
   },
   "outputs": [],
   "source": [
    "# Read in data\n",
    "URL = 'https://raw.githubusercontent.com/allisonhorst/palmerpenguins/main/inst/extdata/penguins.csv'\n",
    "penguins = pd.read_csv(URL)\n",
    "\n",
    "penguins.head()"
   ]
  },
  {
   "cell_type": "markdown",
   "id": "06212700-913f-44e8-9ff2-c3a116871058",
   "metadata": {},
   "source": [
    "### And getting some preliminary information:\n",
    "\n"
   ]
  },
  {
   "cell_type": "code",
   "execution_count": null,
   "id": "181165a0-aca6-4048-adeb-f13cfc98592a",
   "metadata": {
    "tags": []
   },
   "outputs": [],
   "source": [
    "# Check column data types and NA values\n",
    "penguins.info()"
   ]
  },
  {
   "cell_type": "code",
   "execution_count": null,
   "id": "aa97183e-0139-45d9-9efc-7ec86de6f211",
   "metadata": {
    "tags": []
   },
   "outputs": [],
   "source": [
    "# Simple statistics about numeric columns\n",
    "penguins.describe()"
   ]
  },
  {
   "cell_type": "markdown",
   "id": "3904cea7-5fbb-4272-b9b6-724d0ac7ef9e",
   "metadata": {
    "tags": []
   },
   "source": [
    "We can also subset the dataframe to get information about a particular column or groups of columns:\n",
    "\n"
   ]
  },
  {
   "cell_type": "code",
   "execution_count": null,
   "id": "3d70ceff-3f76-461c-913c-5882dc75b5de",
   "metadata": {
    "tags": []
   },
   "outputs": [],
   "source": [
    "# Count unique values in categorical columns and year\n",
    "penguins[['species', 'island', 'sex', 'year']].nunique()"
   ]
  },
  {
   "cell_type": "code",
   "execution_count": null,
   "id": "c8ed78af-2741-4a31-ba10-e6b772e62a5b",
   "metadata": {
    "tags": []
   },
   "outputs": [],
   "source": [
    "# Get unique values in species column\n",
    "penguins['species'].unique()"
   ]
  },
  {
   "cell_type": "code",
   "execution_count": null,
   "id": "63e56bf7-bbe8-41d3-8904-4b9b7b087816",
   "metadata": {
    "tags": []
   },
   "outputs": [],
   "source": [
    "# Number of values per unique value in species column\n",
    "penguins['species'].value_counts()"
   ]
  },
  {
   "cell_type": "markdown",
   "id": "d42a40ce-b149-45d5-bad3-da267d6aa88a",
   "metadata": {},
   "source": [
    "# `kind` argument in `plot()`\n",
    "\n",
    "At the beginning of the lesson we talked about how the plot() method creates a line plot by default. The parameter that controls this behaviour is the kind parameter. By changing the value of kind we can create different kinds of plots. Let’s look at the documentation to see what these values are:\n",
    "\n",
    "\n",
    "Notice the default value of kind is 'line'.\n",
    "\n",
    "Let’s change the kind parameter to create some different plots.\n",
    "\n",
    "# Scatter plots\n",
    "\n",
    "Suppose we want to visualy compare the flipper length against the body mass, we can do this with a scatterplot:\n",
    "\n"
   ]
  },
  {
   "cell_type": "code",
   "execution_count": null,
   "id": "4d5e40d7-f6e1-4b29-ba7c-74c6ec2f2964",
   "metadata": {
    "tags": []
   },
   "outputs": [],
   "source": [
    "penguins.plot(kind='scatter',\n",
    "              x='flipper_length_mm', \n",
    "              y='body_mass_g')"
   ]
  },
  {
   "cell_type": "code",
   "execution_count": null,
   "id": "a2d05af8-8d30-410b-9b7f-6ee155de756f",
   "metadata": {
    "tags": []
   },
   "outputs": [],
   "source": [
    "penguins.plot(kind='scatter',\n",
    "              x='flipper_length_mm', \n",
    "              y='body_mass_g',\n",
    "              title='Flipper length and body mass for Palmer penguins',\n",
    "              xlabel='Flipper length (mm)',\n",
    "              ylabel='Body mass (g)',\n",
    "              color='#ff3b01',\n",
    "              alpha=0.4  # Controls transparency\n",
    "              )"
   ]
  },
  {
   "cell_type": "markdown",
   "id": "4758b137-12c1-485b-be2c-6cff26612d1d",
   "metadata": {},
   "source": [
    "# Bar plots\n",
    "We can create bar plots of our data setting kind='bar' in the plot() method.\n",
    "\n",
    "For example, let’s say we want to get data about the 10 penguins with lowest body mass. We can first select this data using the nsmallest() method for series:"
   ]
  },
  {
   "cell_type": "code",
   "execution_count": null,
   "id": "eec6aa08-bb67-47d0-a5d7-4c1217d976f3",
   "metadata": {
    "tags": []
   },
   "outputs": [],
   "source": [
    "smallest = penguins['body_mass_g'].nsmallest(10)\n",
    "smallest"
   ]
  },
  {
   "cell_type": "code",
   "execution_count": null,
   "id": "2ae16a6f-bc0d-4995-9846-baadb6b3cee9",
   "metadata": {
    "tags": []
   },
   "outputs": [],
   "source": [
    "# We can then plot this data as a bar plot\n",
    "smallest.plot(kind='bar')"
   ]
  },
  {
   "cell_type": "markdown",
   "id": "9c93646a-d926-4b9f-9a86-27b2508ad6e6",
   "metadata": {
    "tags": []
   },
   "source": [
    "#### If we wanted to look at other data for these smallest penguins we can use a different call to the `nsmallest` method:"
   ]
  },
  {
   "cell_type": "code",
   "execution_count": null,
   "id": "217e1995-2861-4ad8-bd1d-98826ae1558d",
   "metadata": {
    "tags": []
   },
   "outputs": [],
   "source": [
    "penguins.nsmallest(10, 'body_mass_g')"
   ]
  },
  {
   "cell_type": "markdown",
   "id": "b4ab5ec5-e1ba-45fc-bf50-590ce4d8fa4e",
   "metadata": {},
   "source": [
    "# Histograms\n",
    "We can create a histogram of our data setting kind='hist' in plot().\n",
    "\n"
   ]
  },
  {
   "cell_type": "code",
   "execution_count": null,
   "id": "c3899cec-b244-4371-b711-8074b79c0acb",
   "metadata": {
    "tags": []
   },
   "outputs": [],
   "source": [
    "# Using plot without subsetting data - a mess again\n",
    "penguins.plot(kind='hist')"
   ]
  },
  {
   "cell_type": "markdown",
   "id": "367f1c70-39fd-4d45-900b-b60c60d8e697",
   "metadata": {},
   "source": [
    "To gain actual information, let’s subset the data before plotting it. For example, suppose we want to do a preliminary graph for the distribution of flipper length. We could do it in this way:\n",
    "\n"
   ]
  },
  {
   "cell_type": "code",
   "execution_count": null,
   "id": "7b1c6c9f-37ad-4c3d-8108-44f85c8da667",
   "metadata": {
    "tags": []
   },
   "outputs": [],
   "source": [
    "# Distribution of flipper length measurements\n",
    "# First select data, then plot\n",
    "penguins['flipper_length_mm'].plot(kind='hist',\n",
    "                                title='Penguin flipper lengths',\n",
    "                                xlabel='Flipper length (mm)',\n",
    "                                grid=True)"
   ]
  },
  {
   "cell_type": "markdown",
   "id": "5d09a5b4-cdae-4a38-a01a-79c280369af4",
   "metadata": {},
   "source": [
    "# Check-in !\n",
    "1. Select the bill_length_mm and bill_depth_mm columns in the penguins dataframe and then update the kind parameter to box to make boxplots of the bill length and bill depth.\n",
    "\n",
    "2. Create a simple histogram of the flipper length of female gentoo penguins."
   ]
  },
  {
   "cell_type": "code",
   "execution_count": null,
   "id": "261c1db2-3137-4828-9e2e-6d5019d6c11e",
   "metadata": {
    "tags": []
   },
   "outputs": [],
   "source": [
    "# Works for one column-\n",
    "df = penguins.loc[:,['bill_length_mm']]\n",
    "#checking if its a dataframe\n",
    "type(df)\n",
    "# Checking to see if i get only both columns\n",
    "#df1 = \n",
    "penguins.loc[:,['bill_length_mm','bill_depth_mm']]\n",
    "#print(type(df1))\n"
   ]
  },
  {
   "cell_type": "code",
   "execution_count": null,
   "id": "3a6a0d7d-943c-44b1-ab29-d64451d64c10",
   "metadata": {
    "tags": []
   },
   "outputs": [],
   "source": [
    "penguins.loc[:,['bill_length_mm','bill_depth_mm']].plot(kind = 'box')\n"
   ]
  },
  {
   "cell_type": "code",
   "execution_count": null,
   "id": "e6e2586e-bdab-4e8c-82a8-3a109ec4fe14",
   "metadata": {
    "tags": []
   },
   "outputs": [],
   "source": [
    "# Check spelling/ uppercase\n",
    "penguins['species'].unique()"
   ]
  },
  {
   "cell_type": "code",
   "execution_count": null,
   "id": "43b1ec1c-1340-45ab-8818-f5ae564c85e6",
   "metadata": {
    "tags": []
   },
   "outputs": [],
   "source": [
    "#2. Filter for only gentoo and female only!\n",
    "gentoo = penguins[(penguins['species'] == 'Gentoo') & (penguins['sex'] == 'female')]\n",
    "gentoo.head()"
   ]
  },
  {
   "cell_type": "code",
   "execution_count": null,
   "id": "54ebbc0d-e275-4805-a8d1-d29716d85aa5",
   "metadata": {
    "tags": []
   },
   "outputs": [],
   "source": [
    "# Plot it\n",
    "gentoo['flipper_length_mm'].plot(kind='hist',\n",
    "                                title='Penguin flipper lengths',\n",
    "                                xlabel='Flipper length (mm)',\n",
    "                                grid=True)"
   ]
  },
  {
   "cell_type": "code",
   "execution_count": null,
   "id": "d81e3cd2-4ca1-4891-9c01-a08f59f4de4c",
   "metadata": {},
   "outputs": [],
   "source": []
  },
  {
   "cell_type": "code",
   "execution_count": null,
   "id": "994a35a1-c776-48a2-9ac0-40b87f03cffc",
   "metadata": {},
   "outputs": [],
   "source": []
  }
 ],
 "metadata": {
  "kernelspec": {
   "display_name": "EDS220",
   "language": "python",
   "name": "eds220-env"
  },
  "language_info": {
   "codemirror_mode": {
    "name": "ipython",
    "version": 3
   },
   "file_extension": ".py",
   "mimetype": "text/x-python",
   "name": "python",
   "nbconvert_exporter": "python",
   "pygments_lexer": "ipython3",
   "version": "3.11.4"
  }
 },
 "nbformat": 4,
 "nbformat_minor": 5
}
